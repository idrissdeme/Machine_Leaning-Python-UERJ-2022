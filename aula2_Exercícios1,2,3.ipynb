{
  "nbformat": 4,
  "nbformat_minor": 0,
  "metadata": {
    "kernelspec": {
      "display_name": "Python 3",
      "language": "python",
      "name": "python3"
    },
    "language_info": {
      "codemirror_mode": {
        "name": "ipython",
        "version": 3
      },
      "file_extension": ".py",
      "mimetype": "text/x-python",
      "name": "python",
      "nbconvert_exporter": "python",
      "pygments_lexer": "ipython3",
      "version": "3.7.0"
    },
    "colab": {
      "name": " aula2_Exercícios1,2,3",
      "provenance": [],
      "collapsed_sections": [],
      "include_colab_link": true
    }
  },
  "cells": [
    {
      "cell_type": "markdown",
      "metadata": {
        "id": "view-in-github",
        "colab_type": "text"
      },
      "source": [
        "<a href=\"https://colab.research.google.com/github/idrissdeme/python-exercicio/blob/master/aula2_Exerc%C3%ADcios1%2C2%2C3.ipynb\" target=\"_parent\"><img src=\"https://colab.research.google.com/assets/colab-badge.svg\" alt=\"Open In Colab\"/></a>"
      ]
    },
    {
      "cell_type": "markdown",
      "metadata": {
        "id": "t9JkW-fLyAmc",
        "colab_type": "text"
      },
      "source": [
        "#### O operador '*' também pode ser aplicado a strings. Porém um dos operandos tem que ser uma string e o outro um inteiro:"
      ]
    },
    {
      "cell_type": "code",
      "metadata": {
        "id": "l5H58WxqyAmc",
        "colab_type": "code",
        "colab": {}
      },
      "source": [
        "'mundo'*4"
      ],
      "execution_count": null,
      "outputs": []
    },
    {
      "cell_type": "code",
      "metadata": {
        "id": "NMir-SqvxFDH",
        "colab_type": "code",
        "colab": {
          "base_uri": "https://localhost:8080/",
          "height": 35
        },
        "outputId": "f3f552fb-d311-4b1b-ff2a-2eaf79b18539"
      },
      "source": [
        "'vida'*2"
      ],
      "execution_count": 24,
      "outputs": [
        {
          "output_type": "execute_result",
          "data": {
            "application/vnd.google.colaboratory.intrinsic+json": {
              "type": "string"
            },
            "text/plain": [
              "'vidavida'"
            ]
          },
          "metadata": {
            "tags": []
          },
          "execution_count": 24
        }
      ]
    },
    {
      "cell_type": "code",
      "metadata": {
        "id": "Hdg05v-2yAme",
        "colab_type": "code",
        "colab": {}
      },
      "source": [
        "'mundo, '*2 + 'vasto mundo' "
      ],
      "execution_count": null,
      "outputs": []
    },
    {
      "cell_type": "code",
      "metadata": {
        "id": "W-wGB1sgyAmh",
        "colab_type": "code",
        "colab": {
          "base_uri": "https://localhost:8080/",
          "height": 34
        },
        "outputId": "5a197d3f-0e6f-44d4-96fa-2b5a7dae6cd4"
      },
      "source": [
        "# Calcular a velocidade v de um corpo\n",
        "s = 500 # distância em kilometros\n",
        "t = 7.5 # tempo em horas\n",
        "v = s/t\n",
        "print('velocidade = ', v, 'km/h')"
      ],
      "execution_count": 7,
      "outputs": [
        {
          "output_type": "stream",
          "text": [
            "velocidade =  66.66666666666667 km/h\n"
          ],
          "name": "stdout"
        }
      ]
    },
    {
      "cell_type": "code",
      "metadata": {
        "id": "VExIEYFUyAmv",
        "colab_type": "code",
        "colab": {
          "base_uri": "https://localhost:8080/",
          "height": 34
        },
        "outputId": "8f69a736-ff41-433b-e164-abada81a1dc1"
      },
      "source": [
        "# cálculo do IMC de um bebê\n",
        "massa = 11 # em Kg\n",
        "altura = 0.70 # m\n",
        "imc = massa/altura**2 \n",
        "print(imc)"
      ],
      "execution_count": 11,
      "outputs": [
        {
          "output_type": "stream",
          "text": [
            "22.44897959183674\n"
          ],
          "name": "stdout"
        }
      ]
    },
    {
      "cell_type": "code",
      "metadata": {
        "id": "18JpjXnMxy5L",
        "colab_type": "code",
        "colab": {
          "base_uri": "https://localhost:8080/",
          "height": 102
        },
        "outputId": "848fdedf-30f9-4a2e-be28-c545350bfbb3"
      },
      "source": [
        "#Exercício1: declarões e atribuições\n",
        "largura=17\n",
        "altura=12.0\n",
        "delimitador= \".\"\n",
        "print(largura/2, type(largura/2))\n",
        "print(largura/2.0,type(largura/2.0))\n",
        "print(altura/3, type(altura/3))\n",
        "print(1+2*5)\n",
        "print(delimitador*5, type(delimitador*5))"
      ],
      "execution_count": 29,
      "outputs": [
        {
          "output_type": "stream",
          "text": [
            "8.5 <class 'float'>\n",
            "8.5 <class 'float'>\n",
            "4.0 <class 'float'>\n",
            "11\n",
            "..... <class 'str'>\n"
          ],
          "name": "stdout"
        }
      ]
    },
    {
      "cell_type": "code",
      "metadata": {
        "colab_type": "code",
        "id": "MlzOhvZy-u09",
        "colab": {
          "base_uri": "https://localhost:8080/",
          "height": 102
        },
        "outputId": "848fdedf-30f9-4a2e-be28-c545350bfbb3"
      },
      "source": [
        "#Exercício1: declarões e atribuições\n",
        "largura=17\n",
        "altura=12.0\n",
        "delimitador= \".\"\n",
        "print(largura/2, type(largura/2))\n",
        "print(largura/2.0,type(largura/2.0))\n",
        "print(altura/3, type(altura/3))\n",
        "print(1+2*5)\n",
        "print(delimitador*5, type(delimitador*5))"
      ],
      "execution_count": null,
      "outputs": [
        {
          "output_type": "stream",
          "text": [
            "8.5 <class 'float'>\n",
            "8.5 <class 'float'>\n",
            "4.0 <class 'float'>\n",
            "11\n",
            "..... <class 'str'>\n"
          ],
          "name": "stdout"
        }
      ]
    },
    {
      "cell_type": "markdown",
      "metadata": {
        "id": "Vz8GxGVqyAm5",
        "colab_type": "text"
      },
      "source": [
        "## Exercícios\n",
        "\n",
        "### Exercício 1:\n",
        "Considere as seguintes declarações de atribuições:\n",
        "   * largura = 17 \n",
        "   * altura = 12.0\n",
        "   * delimitador = \".\"\n",
        "   \n",
        "Para cada uma das expressões a seguir, escreva o valor das expressões e o tipo (do valor da expressão):\n",
        "1. largura/2\n",
        "1. largura/2.0\n",
        "1. altura/3\n",
        "1. 1 + 2 * 5\n",
        "1. delimitador*5\n",
        "\n",
        "Use o interpretador de python para verificar suas respostas.\n",
        "\n",
        "### Exercício 2:\n",
        "O volume de uma esfera de raio *r* é $\\frac{4}{3} \\pi r^{3}$ \n",
        "\n",
        "Qual é o volume de uma esfera de raio 5?\n",
        "\n",
        "### Exercício 3:\n",
        "Suponha que o preço de um livro seja 24.95 reais, porém as livrarias têm desconto de 40%. Os custos de envio são de 3.00 reais para o primeiro livro e 0.75 reais para os livros adicionais. Qual é o custo total da compra de 60 livros?  \n",
        "\n",
        "### Exercício 4:\n",
        "Um laser vermelho (com comprimento de onda $\\lambda = 632.8$ nm) incide em uma fenda dupla produzindo um padrão de interferência com franjas claras e escuras, em um anteparo situado a uma distância D = 1.98 m da fenda. Calcule a distância $\\Delta y$ entre dois máximos consecutivos de interferência. Considere o espaçamento entre as fendas, $d$, como sendo igual a 0.250 mm.\n",
        "*Dica: a distância entre dois máximos de interferência consecutivos pode ser aproximada por $\\Delta y = \\frac{\\lambda D}{d}$.*"
      ]
    },
    {
      "cell_type": "markdown",
      "metadata": {
        "id": "-Pz8aUMd-4K1",
        "colab_type": "text"
      },
      "source": [
        "RESULOÇÃO DOS EXERCÍCIOS 1,2 E 3"
      ]
    },
    {
      "cell_type": "code",
      "metadata": {
        "colab_type": "code",
        "id": "ccwoZGGP-y4a",
        "colab": {
          "base_uri": "https://localhost:8080/",
          "height": 102
        },
        "outputId": "848fdedf-30f9-4a2e-be28-c545350bfbb3"
      },
      "source": [
        "Exercício1: declarões e atribuições\n",
        "largura=17\n",
        "altura=12.0\n",
        "delimitador= \".\"\n",
        "print(largura/2, type(largura/2))\n",
        "print(largura/2.0,type(largura/2.0))\n",
        "print(altura/3, type(altura/3))\n",
        "print(1+2*5)\n",
        "print(delimitador*5, type(delimitador*5))"
      ],
      "execution_count": null,
      "outputs": [
        {
          "output_type": "stream",
          "text": [
            "8.5 <class 'float'>\n",
            "8.5 <class 'float'>\n",
            "4.0 <class 'float'>\n",
            "11\n",
            "..... <class 'str'>\n"
          ],
          "name": "stdout"
        }
      ]
    },
    {
      "cell_type": "code",
      "metadata": {
        "id": "vPZD4-rG0f9B",
        "colab_type": "code",
        "colab": {
          "base_uri": "https://localhost:8080/",
          "height": 34
        },
        "outputId": "c2450dfb-ada4-4b6b-afa6-405ddcbb95b7"
      },
      "source": [
        "#Exercício2: Volume de esfera\n",
        "r=5 \n",
        "#math.pi não funciona? Usei na tarefa da aula1 sem problema\n",
        "volume=(4/3)*3.14*r**3\n",
        "print('O volume da esfera é:',volume)"
      ],
      "execution_count": 43,
      "outputs": [
        {
          "output_type": "stream",
          "text": [
            "O volume da esfera é: 523.3333333333334\n"
          ],
          "name": "stdout"
        }
      ]
    },
    {
      "cell_type": "code",
      "metadata": {
        "id": "tdkEZV1V3jby",
        "colab_type": "code",
        "colab": {
          "base_uri": "https://localhost:8080/",
          "height": 34
        },
        "outputId": "97c980ac-f9cd-415a-d7d6-3f481c96a082"
      },
      "source": [
        "#Exercício3: Custo de compra de 60 livros\n",
        "lvr = 24.95 #preço de um livro\n",
        "desc = 40/100 #desconto das livraria\n",
        "q=60 #quantidade de livros \n",
        "c_e1 = 3.00 #custo de envio para o primeiro livro em reais\n",
        "c_e2 = 0.75 #custo de envio para livros adicionais em reais\n",
        "lvr_desc = lvr*desc #preço de um livro para livraria em reais\n",
        "c_e_tot=c_e1 + (q-1)*c_e2 #cuso de envio em reais\n",
        "c_tot = 60*lvr_desc + c_e_tot \n",
        "print('O custo total de compra de',q, 'livros é:', round(c_tot,2),'R$')\n"
      ],
      "execution_count": 50,
      "outputs": [
        {
          "output_type": "stream",
          "text": [
            "O custo total de compra de 60 livros é: 646.05 R$\n"
          ],
          "name": "stdout"
        }
      ]
    },
    {
      "cell_type": "code",
      "metadata": {
        "id": "LhQ2jMa863xA",
        "colab_type": "code",
        "colab": {
          "base_uri": "https://localhost:8080/",
          "height": 34
        },
        "outputId": "8229bf48-ace0-4e1e-e64d-397500ae69fe"
      },
      "source": [
        "#Exercício4: distância entre dois máximos consecutivos\n",
        "lambd=632.8*10**-9 # comprimento de onda do laser em metros\n",
        "D=1.98 # distancia entre o anteparo e a fenda em metros\n",
        "d=0.25*10**-3 #espaçamento entre as fendas em metros\n",
        "delta_y = lambd*D/d\n",
        "print('a distância entre dois máximos de interferência é:', round(delta_y*1000,2),'mm')"
      ],
      "execution_count": 55,
      "outputs": [
        {
          "output_type": "stream",
          "text": [
            "a distância entre dois máximos de interferência é: 5.01 mm\n"
          ],
          "name": "stdout"
        }
      ]
    }
  ]
}