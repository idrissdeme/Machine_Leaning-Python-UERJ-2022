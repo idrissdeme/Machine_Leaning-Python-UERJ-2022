{
  "nbformat": 4,
  "nbformat_minor": 0,
  "metadata": {
    "kernelspec": {
      "display_name": "Python 3",
      "language": "python",
      "name": "python3"
    },
    "language_info": {
      "codemirror_mode": {
        "name": "ipython",
        "version": 3
      },
      "file_extension": ".py",
      "mimetype": "text/x-python",
      "name": "python",
      "nbconvert_exporter": "python",
      "pygments_lexer": "ipython3",
      "version": "3.6.4"
    },
    "colab": {
      "name": "Exercícios aula3_.ipynb",
      "provenance": [],
      "collapsed_sections": [],
      "include_colab_link": true
    }
  },
  "cells": [
    {
      "cell_type": "markdown",
      "metadata": {
        "id": "view-in-github",
        "colab_type": "text"
      },
      "source": [
        "<a href=\"https://colab.research.google.com/github/idrissdeme/python-exercicio/blob/master/Exerc%C3%ADcios_aula3_.ipynb\" target=\"_parent\"><img src=\"https://colab.research.google.com/assets/colab-badge.svg\" alt=\"Open In Colab\"/></a>"
      ]
    },
    {
      "cell_type": "markdown",
      "metadata": {
        "id": "mLdU4EFy1QAa"
      },
      "source": [
        "# Funções"
      ]
    },
    {
      "cell_type": "markdown",
      "metadata": {
        "id": "HlUBtJ661QAe"
      },
      "source": [
        "Em programação, uma **função é uma sequência de declarações**, à qual atribuímos um nome, que realiza uma tarefa.\n",
        "\n",
        "Ao criar uma função, deve-se especificar o nome da função e a sequência de declarações.\n",
        "\n",
        "## Chamada de funções\n",
        "Já vimos pelo menos um exemplo de chamada de função:"
      ]
    },
    {
      "cell_type": "code",
      "metadata": {
        "id": "HhR2W5tH1QAh"
      },
      "source": [
        "type(40)"
      ],
      "execution_count": null,
      "outputs": []
    },
    {
      "cell_type": "markdown",
      "metadata": {
        "id": "fU53FlDA1QA4"
      },
      "source": [
        "* **nome** da função: *type*\n",
        "* **argumento**: 40\n",
        "* **valor de retorno** da função: é o resultado que a função retorna. Nesse exemplo, a função de nome *type*, retorna o tipo do *argumento* passado na função."
      ]
    },
    {
      "cell_type": "markdown",
      "metadata": {
        "id": "mDK2ARCC1QA6"
      },
      "source": [
        "## Funções de conversão de tipo\n",
        "O Python fornece funções internas (*built-in*) que convertem valores de um tipo para outro ==> **casting**. \n",
        "A função *int* recebe qualquer valor e o converte em um inteiro, se puder:"
      ]
    },
    {
      "cell_type": "code",
      "metadata": {
        "id": "-B_1Qjp61QA8",
        "outputId": "e74d28bf-33a2-4fa7-dd1e-cd3384d3170f"
      },
      "source": [
        "int(2.8)"
      ],
      "execution_count": null,
      "outputs": [
        {
          "output_type": "execute_result",
          "data": {
            "text/plain": [
              "2"
            ]
          },
          "metadata": {
            "tags": []
          },
          "execution_count": 1
        }
      ]
    },
    {
      "cell_type": "markdown",
      "metadata": {
        "id": "ZGfKybYY1QBD"
      },
      "source": [
        "ou reclama quando não é possível fazer a conversão:"
      ]
    },
    {
      "cell_type": "code",
      "metadata": {
        "id": "mKIa4eSZ1QBF",
        "outputId": "d02f4562-4ec8-49dd-c498-acbd4ac613ec"
      },
      "source": [
        "int('Oi')"
      ],
      "execution_count": null,
      "outputs": [
        {
          "output_type": "error",
          "ename": "ValueError",
          "evalue": "invalid literal for int() with base 10: 'Oi'",
          "traceback": [
            "\u001b[0;31m---------------------------------------------------------------------------\u001b[0m",
            "\u001b[0;31mValueError\u001b[0m                                Traceback (most recent call last)",
            "\u001b[0;32m<ipython-input-2-fe057eac90f9>\u001b[0m in \u001b[0;36m<module>\u001b[0;34m()\u001b[0m\n\u001b[0;32m----> 1\u001b[0;31m \u001b[0mint\u001b[0m\u001b[0;34m(\u001b[0m\u001b[0;34m'Oi'\u001b[0m\u001b[0;34m)\u001b[0m\u001b[0;34m\u001b[0m\u001b[0m\n\u001b[0m",
            "\u001b[0;31mValueError\u001b[0m: invalid literal for int() with base 10: 'Oi'"
          ]
        }
      ]
    },
    {
      "cell_type": "markdown",
      "metadata": {
        "id": "MHzcwLue1QBM"
      },
      "source": [
        "A função *float* converte inteiros e strings em *floats*:"
      ]
    },
    {
      "cell_type": "code",
      "metadata": {
        "id": "HXHGdTKS1QBM",
        "outputId": "95ca0288-7823-4577-ce12-e66d0a5176c8"
      },
      "source": [
        "float(32)"
      ],
      "execution_count": null,
      "outputs": [
        {
          "output_type": "execute_result",
          "data": {
            "text/plain": [
              "32.0"
            ]
          },
          "metadata": {
            "tags": []
          },
          "execution_count": 157
        }
      ]
    },
    {
      "cell_type": "code",
      "metadata": {
        "id": "DohGLVAN1QBT",
        "outputId": "fc339d53-f948-4781-e831-100dc40fe1a2"
      },
      "source": [
        "float('3.14159')"
      ],
      "execution_count": null,
      "outputs": [
        {
          "output_type": "execute_result",
          "data": {
            "text/plain": [
              "3.14159"
            ]
          },
          "metadata": {
            "tags": []
          },
          "execution_count": 158
        }
      ]
    },
    {
      "cell_type": "markdown",
      "metadata": {
        "id": "zb2XGEGV1QBa"
      },
      "source": [
        "A função *str* converte seu argumento em *strings*:"
      ]
    },
    {
      "cell_type": "code",
      "metadata": {
        "id": "xjNfzXpx1QBb",
        "outputId": "43661fec-29a5-4409-e02f-089c75115934"
      },
      "source": [
        "str(32)"
      ],
      "execution_count": null,
      "outputs": [
        {
          "output_type": "execute_result",
          "data": {
            "text/plain": [
              "'32'"
            ]
          },
          "metadata": {
            "tags": []
          },
          "execution_count": 159
        }
      ]
    },
    {
      "cell_type": "code",
      "metadata": {
        "id": "YtLFg9Eo1QBg",
        "outputId": "63084a69-c80c-4cb0-c2bd-6c9aaec24a85"
      },
      "source": [
        "str(3.14159)"
      ],
      "execution_count": null,
      "outputs": [
        {
          "output_type": "execute_result",
          "data": {
            "text/plain": [
              "'3.14159'"
            ]
          },
          "metadata": {
            "tags": []
          },
          "execution_count": 160
        }
      ]
    },
    {
      "cell_type": "markdown",
      "metadata": {
        "id": "6QsSxOS21QBk"
      },
      "source": [
        "## Funções matemáticas"
      ]
    },
    {
      "cell_type": "markdown",
      "metadata": {
        "id": "YkHesDWl1QBl"
      },
      "source": [
        "O Python possui um **módulo matemático** que fornece a maioria das funções matemáticas familiares. \n",
        "\n",
        "Um **módulo** de python é um arquivo que contém uma coleção de funções relacionadas.\n",
        "\n",
        "Antes de poder usar um certo módulo, temos que ***importá-lo***:"
      ]
    },
    {
      "cell_type": "code",
      "metadata": {
        "id": "Q4IuIinn1QBm"
      },
      "source": [
        "import math"
      ],
      "execution_count": null,
      "outputs": []
    },
    {
      "cell_type": "markdown",
      "metadata": {
        "id": "VFzSYW3Q1QBr"
      },
      "source": [
        "A declaração acima **cria um objeto de módulo** chamado **math**.\n",
        "\n",
        "Você pode imprimir o objeto de módulo:"
      ]
    },
    {
      "cell_type": "code",
      "metadata": {
        "id": "P7qIO1Fo1QBs",
        "outputId": "6d9c1f0c-6c6b-45c3-c5d9-086c7ed2621d"
      },
      "source": [
        "print(math)"
      ],
      "execution_count": null,
      "outputs": [
        {
          "output_type": "stream",
          "text": [
            "<module 'math' from '/anaconda3/lib/python3.6/lib-dynload/math.cpython-36m-darwin.so'>\n"
          ],
          "name": "stdout"
        }
      ]
    },
    {
      "cell_type": "markdown",
      "metadata": {
        "id": "B6mCKwrq1QBx"
      },
      "source": [
        "O objeto do módulo contém as funções e variáveis definidas no módulo. \n",
        "\n",
        "Para acessar uma das funções do módulo usamos a seguinte expressão:\n",
        "\n",
        "* *nome_do_objeto_do_modulo**.**nome_da_funcao*\n",
        "\n",
        "\n",
        "Esse formato é chamado de **notação de ponto**."
      ]
    },
    {
      "cell_type": "code",
      "metadata": {
        "id": "KQuTc56J1QBx",
        "outputId": "aeb04933-f044-451a-d8b6-5047e2a8c249"
      },
      "source": [
        "import math\n",
        "cateto_oposto = 4\n",
        "cateto_adjacente = 2\n",
        "tg_theta = cateto_oposto/cateto_adjacente\n",
        "theta = math.atan(tg_theta)\n",
        "print(theta, 'em radianos')"
      ],
      "execution_count": null,
      "outputs": [
        {
          "output_type": "stream",
          "text": [
            "1.1071487177940906 em radianos\n"
          ],
          "name": "stdout"
        }
      ]
    },
    {
      "cell_type": "markdown",
      "metadata": {
        "id": "8_u13RST1QB1"
      },
      "source": [
        "As funções trigonométricas pegam os argumentos em radianos.\n",
        "\n",
        "Podemos converter de radianos para graus com uma função do objeto de módulo:"
      ]
    },
    {
      "cell_type": "code",
      "metadata": {
        "id": "aGEWEuvk1QB3",
        "outputId": "2a4a6705-44ac-449d-acf5-5ff97caf9cd8"
      },
      "source": [
        "math.degrees(theta)"
      ],
      "execution_count": null,
      "outputs": [
        {
          "output_type": "execute_result",
          "data": {
            "text/plain": [
              "63.43494882292202"
            ]
          },
          "metadata": {
            "tags": []
          },
          "execution_count": 3
        }
      ]
    },
    {
      "cell_type": "markdown",
      "metadata": {
        "id": "eWa85ov41QB7"
      },
      "source": [
        "Ou:"
      ]
    },
    {
      "cell_type": "code",
      "metadata": {
        "id": "vb5XyQGs1QB7",
        "outputId": "a8088437-f699-4db2-cf7e-be7866e89d21"
      },
      "source": [
        "theta_graus = theta*180/math.pi\n",
        "print(theta_graus)"
      ],
      "execution_count": null,
      "outputs": [
        {
          "output_type": "stream",
          "text": [
            "63.43494882292202\n"
          ],
          "name": "stdout"
        }
      ]
    },
    {
      "cell_type": "markdown",
      "metadata": {
        "id": "IZEpn9H71QCA"
      },
      "source": [
        "Acessamos o valor de $\\pi$ determinado no módulo matemático através da variável math.pi. O valor dessa variável é uma aproximação de π, com precisão de cerca de 15 dígitos."
      ]
    },
    {
      "cell_type": "markdown",
      "metadata": {
        "id": "aQ6v8Xmh1QCA"
      },
      "source": [
        "**Exercício:** Quantos graus tem o ângulo $\\theta$ correspondente a $cos\\theta = \\sqrt2/2$ ?"
      ]
    },
    {
      "cell_type": "code",
      "metadata": {
        "id": "6WG3jCgl1QCB",
        "outputId": "025e3bf7-6ebc-4336-cb08-61324a321660"
      },
      "source": [
        "math.degrees(math.acos(math.sqrt(2)/2))"
      ],
      "execution_count": null,
      "outputs": [
        {
          "output_type": "execute_result",
          "data": {
            "text/plain": [
              "45.0"
            ]
          },
          "metadata": {
            "tags": []
          },
          "execution_count": 5
        }
      ]
    },
    {
      "cell_type": "markdown",
      "metadata": {
        "id": "21R0vYBn1QCG"
      },
      "source": [
        "## Composição\n",
        "\n",
        "Até agora, analisamos os elementos de um programa - variáveis, expressões e declarações - isoladamente, sem falar sobre como combiná-los.\n",
        "\n",
        "Um dos recursos mais úteis das linguagens de programação é a capacidade de usar blocos de construção pequenos e **compô-los**. \n",
        "\n",
        "Por exemplo, ***o argumento de uma função pode ser qualquer tipo de expressão***, incluindo operadores aritméticos:"
      ]
    },
    {
      "cell_type": "code",
      "metadata": {
        "id": "eZt4ODl81QCG",
        "outputId": "5da6bb3e-b218-4bbc-effd-87d46513155d"
      },
      "source": [
        "x = math.sin((theta_graus/360.0) * 2 * math.pi)\n",
        "print(x)"
      ],
      "execution_count": null,
      "outputs": [
        {
          "output_type": "stream",
          "text": [
            "0.8944271909999159\n"
          ],
          "name": "stdout"
        }
      ]
    },
    {
      "cell_type": "markdown",
      "metadata": {
        "id": "dT-kDloC1QCL"
      },
      "source": [
        "E até mesmo chamadas de função:"
      ]
    },
    {
      "cell_type": "code",
      "metadata": {
        "id": "LSpJCZYa1QCM",
        "outputId": "7b70dc5b-10c3-4f90-8553-9d5fc209aa10"
      },
      "source": [
        "x2 = math.sin(math.radians(theta_graus))\n",
        "print(x2)"
      ],
      "execution_count": null,
      "outputs": [
        {
          "output_type": "stream",
          "text": [
            "0.894427190999916\n"
          ],
          "name": "stdout"
        }
      ]
    },
    {
      "cell_type": "markdown",
      "metadata": {
        "id": "kHnjlfxC1QCP"
      },
      "source": [
        "* **Em quase todo lugar onde é possível usar um valor, também é possível usar uma expressão arbitrária**\n",
        "* Porém, o lado esquerdo de uma **declaração de atribuição** deve ser sempre um ***nome de variável***. "
      ]
    },
    {
      "cell_type": "code",
      "metadata": {
        "id": "Rvisg2GJ1QCQ"
      },
      "source": [
        "horas = 2\n",
        "minutos = horas * 60"
      ],
      "execution_count": null,
      "outputs": []
    },
    {
      "cell_type": "code",
      "metadata": {
        "id": "abEXT41C1QCT",
        "outputId": "99355e61-31da-4d7b-dc3f-b0a322aa6ff6"
      },
      "source": [
        "horas * 60 = minutos "
      ],
      "execution_count": null,
      "outputs": [
        {
          "output_type": "error",
          "ename": "SyntaxError",
          "evalue": "can't assign to operator (<ipython-input-170-30179fa6741f>, line 1)",
          "traceback": [
            "\u001b[0;36m  File \u001b[0;32m\"<ipython-input-170-30179fa6741f>\"\u001b[0;36m, line \u001b[0;32m1\u001b[0m\n\u001b[0;31m    horas * 60 = minutos\u001b[0m\n\u001b[0m                         ^\u001b[0m\n\u001b[0;31mSyntaxError\u001b[0m\u001b[0;31m:\u001b[0m can't assign to operator\n"
          ]
        }
      ]
    },
    {
      "cell_type": "markdown",
      "metadata": {
        "id": "GgzIdBUC1QCX"
      },
      "source": [
        "## Adicionando novas funções\n",
        "\n",
        "* Até agora, só usamos as funções do Python, mas também é possível adicionar novas funções. \n",
        "* Para definir uma função, é necessário:\n",
        "   * determinar o nome da função \n",
        "   * determinar a sequência de instruções a serem executadas quando a função é chamada.\n",
        "\n",
        "A sintaxe para a definição de uma função é:"
      ]
    },
    {
      "cell_type": "code",
      "metadata": {
        "id": "YcNtfvb41QCY"
      },
      "source": [
        "def nome_da_funcao(argumentos_da_funcao):   #cabeçário (header) da função\n",
        "    declaracao = 'esse é o CORPO da função. É onde são feitas as declarações da função'  # as declarações da funções devem ser INDENTADAS."
      ],
      "execution_count": null,
      "outputs": []
    },
    {
      "cell_type": "markdown",
      "metadata": {
        "id": "Du2f83Qm1QCb"
      },
      "source": [
        "Um exemplo de função:"
      ]
    },
    {
      "cell_type": "code",
      "metadata": {
        "id": "N6Y4EIhT1QCd"
      },
      "source": [
        "def print_poema():\n",
        "    print('Caminante, no hay camino,')\n",
        "    print('se hace camino al andar.')"
      ],
      "execution_count": null,
      "outputs": []
    },
    {
      "cell_type": "markdown",
      "metadata": {
        "id": "sElRdIgU1QCg"
      },
      "source": [
        "Ao definir uma função, se cria uma variável com o mesmo nome."
      ]
    },
    {
      "cell_type": "code",
      "metadata": {
        "id": "MCykAjJg1QCg",
        "outputId": "a5aff3fb-2cb5-459b-97cd-a2dbd54f6e4c"
      },
      "source": [
        "print(print_poema)"
      ],
      "execution_count": null,
      "outputs": [
        {
          "output_type": "stream",
          "text": [
            "<function print_poema at 0x10513bc80>\n"
          ],
          "name": "stdout"
        }
      ]
    },
    {
      "cell_type": "code",
      "metadata": {
        "id": "Dm9uEFR51QCl",
        "outputId": "39d787e1-cf25-4293-c09a-71f1e347a209"
      },
      "source": [
        "type(print_poema)"
      ],
      "execution_count": null,
      "outputs": [
        {
          "output_type": "execute_result",
          "data": {
            "text/plain": [
              "function"
            ]
          },
          "metadata": {
            "tags": []
          },
          "execution_count": 24
        }
      ]
    },
    {
      "cell_type": "markdown",
      "metadata": {
        "id": "0W3Nn6Q-1QCo"
      },
      "source": [
        "O valor de print_poema é um **objeto de função**, que possui o ***tipo*** 'function'.\n",
        "\n",
        "A sintaxe para chamar a nova função é a mesma das funções integradas (built-in):"
      ]
    },
    {
      "cell_type": "code",
      "metadata": {
        "id": "WBBbS-ov1QCp",
        "outputId": "eb8aa108-89bb-4ea5-857c-cdea4005d3c5"
      },
      "source": [
        "print_poema()"
      ],
      "execution_count": null,
      "outputs": [
        {
          "output_type": "stream",
          "text": [
            "Caminante, no hay camino,\n",
            "se hace camino al andar.\n"
          ],
          "name": "stdout"
        }
      ]
    },
    {
      "cell_type": "markdown",
      "metadata": {
        "id": "AuwQKBc91QCt"
      },
      "source": [
        "Uma vez definida a função, podemos usá-la dentro de outra função:"
      ]
    },
    {
      "cell_type": "code",
      "metadata": {
        "id": "eOFu6mFD1QCt"
      },
      "source": [
        "def verso_poema():\n",
        "    print('Caminante, son tus huellas')\n",
        "    print('el camino y nada más;')\n",
        "    \n",
        "    print_poema()\n",
        "    \n",
        "    print('Al andar se hace el camino,')\n",
        "    print('y al volver la vista atrás,')\n",
        "    print('se ve la senda que nunca')\n",
        "    print('se ha de volver a pisar.')\n",
        "    print('Caminante no hay camino')\n",
        "    print('sino estelas en la mar.')"
      ],
      "execution_count": null,
      "outputs": []
    },
    {
      "cell_type": "markdown",
      "metadata": {
        "id": "0sDYw-NV1QCw"
      },
      "source": [
        "E chamá-la:"
      ]
    },
    {
      "cell_type": "code",
      "metadata": {
        "id": "bbW8FkNX1QCw",
        "outputId": "ef1f0423-93f5-47d8-8e2c-a50fd79b1b80"
      },
      "source": [
        "verso_poema()"
      ],
      "execution_count": null,
      "outputs": [
        {
          "output_type": "stream",
          "text": [
            "Caminante, son tus huellas\n",
            "el camino y nada más;\n",
            "Caminante, no hay camino,\n",
            "se hace camino al andar.\n",
            "Al andar se hace el camino,\n",
            "y al volver la vista atrás,\n",
            "se ve la senda que nunca\n",
            "se ha de volver a pisar.\n",
            "Caminante no hay camino\n",
            "sino estelas en la mar.\n"
          ],
          "name": "stdout"
        }
      ]
    },
    {
      "cell_type": "markdown",
      "metadata": {
        "id": "RG7Ibl4j1QCz"
      },
      "source": [
        "## Definições e usos\n",
        "\n",
        "Até agora, definimos duas funções e as chamamos. \n",
        "Ao colocarmos as funções e chamada em um programa, temos:"
      ]
    },
    {
      "cell_type": "code",
      "metadata": {
        "id": "0ZHgmqH-1QC1",
        "outputId": "740b356d-ef98-45f0-fe44-5e0940fbcc02"
      },
      "source": [
        "def print_poema():\n",
        "    print('Caminante, no hay camino,')\n",
        "    print('se hace camino al andar.')\n",
        "    \n",
        "def verso_poema():\n",
        "    print('Caminante, son tus huellas')\n",
        "    print('el camino y nada más;')\n",
        "    \n",
        "    print_poema()\n",
        "    \n",
        "    print('Al andar se hace el camino,')\n",
        "    print('y al volver la vista atrás,')\n",
        "    print('se ve la senda que nunca')\n",
        "    print('se ha de volver a pisar.')\n",
        "    print('Caminante no hay camino')\n",
        "    print('sino estelas en la mar.')\n",
        "\n",
        "verso_poema()"
      ],
      "execution_count": null,
      "outputs": [
        {
          "output_type": "stream",
          "text": [
            "Caminante, son tus huellas\n",
            "el camino y nada más;\n",
            "Caminante, no hay camino,\n",
            "se hace camino al andar.\n",
            "Al andar se hace el camino,\n",
            "y al volver la vista atrás,\n",
            "se ve la senda que nunca\n",
            "se ha de volver a pisar.\n",
            "Caminante no hay camino\n",
            "sino estelas en la mar.\n"
          ],
          "name": "stdout"
        }
      ]
    },
    {
      "cell_type": "markdown",
      "metadata": {
        "id": "-cd69H651QC3"
      },
      "source": [
        "***Este programa contém duas definições de função: print_poema e verso_poema.*** \n",
        "\n",
        "* As definições de função são executadas exatamente como outras instruções, mas o efeito é criar ***objetos de função***. \n",
        "* As instruções dentro da função só são executadas quando a função é chamada.\n",
        "* Somente a definição (sem a chamada) da função não gera saída.\n",
        "\n",
        "\n",
        "\n",
        "* A função deve ser definida **antes** de poder ser executada. "
      ]
    },
    {
      "cell_type": "code",
      "metadata": {
        "id": "EZnzJzhYpMqS",
        "outputId": "8287bed6-f849-4e59-b701-749c3c4ea3a1",
        "colab": {
          "base_uri": "https://localhost:8080/",
          "height": 85
        }
      },
      "source": [
        "#exercício1: Crie uma funcão que tome um argumento e imprima o valor e o tipo dele.\n",
        "def argumento(arg):\n",
        "  print(arg)\n",
        "  print('o tipo do argumento da função é:',type(arg))\n",
        "argumento('isso é o argumento da função criada')\n",
        "argumento(58)"
      ],
      "execution_count": 10,
      "outputs": [
        {
          "output_type": "stream",
          "text": [
            "isso é o argumento da função criada\n",
            "o tipo do argumento da função é: <class 'str'>\n",
            "58\n",
            "o tipo do argumento da função é: <class 'int'>\n"
          ],
          "name": "stdout"
        }
      ]
    },
    {
      "cell_type": "code",
      "metadata": {
        "id": "AmAdggN5uIju",
        "outputId": "9c7e6a00-7ba2-4c6e-bd0a-4f3e02d08da3",
        "colab": {
          "base_uri": "https://localhost:8080/",
          "height": 136
        }
      },
      "source": [
        "#Exercício2: Crie uma função que calcule e imprima velocidade media de um objeto a partir de uma posição inicial,\n",
        "# a final e o tempo transcorrido para um objeto em MRU. \n",
        "#Também crie uma funcão que calcule e imprima a velocidade de um objeto a partir da aceleração constante e o tempo (MRUA) (p.ex. queda libre).\n",
        "def velocidade_média():\n",
        "  Pi=float(input('digite a posição inicial'))\n",
        "  Pf=float(input('digite a posição final'))\n",
        "  tp=float(input('digite o tempo decorrido'))\n",
        "  v = (Pf-Pi)/tp\n",
        "  print('a velocidade média é:', v, 'm/s')\n",
        "velocidade_média()\n",
        "\n",
        "def velocidade_final(tempo, aceleracao):\n",
        "  vf=tempo*aceleracao\n",
        "  print('a velocidade final é:',vf,'m/s')\n",
        "tempo=float(input('digite o tempo decorrido'))\n",
        "aceleracao=float(input('digite a aceleração'))\n",
        "velocidade_final(tempo,aceleracao)"
      ],
      "execution_count": 44,
      "outputs": [
        {
          "output_type": "stream",
          "text": [
            "digite a posição inicial10\n",
            "digite a posição final20\n",
            "digite o tempo decorrido3\n",
            "a velocidade média é: 3.3333333333333335 m/s\n",
            "digite o tempo decorrido20\n",
            "digite a aceleração2\n",
            "a velocidade final é: 40.0 m/s\n"
          ],
          "name": "stdout"
        }
      ]
    },
    {
      "cell_type": "code",
      "metadata": {
        "id": "IAjBzsoQ876c",
        "outputId": "8b80bf18-ef43-4ca7-ebc7-80ec83d19561",
        "colab": {
          "base_uri": "https://localhost:8080/",
          "height": 68
        }
      },
      "source": [
        "#Exercício3\n",
        "#altura do objeto: h ; comprimento da sombra: l\n",
        "def angulo_zenital(h,l):\n",
        "  import math\n",
        "  delta = math.atan2(h,l)\n",
        "  delta_grau=math.degrees(delta)\n",
        "  zenital=delta_grau+23-90\n",
        "  print (zenital)\n",
        "h=float(input('digite a altura do objeto em metros'))\n",
        "l=float(input('digite o comprimento da sombra do objeto em metros'))\n",
        "angulo_zenital(h,l)"
      ],
      "execution_count": 59,
      "outputs": [
        {
          "output_type": "stream",
          "text": [
            "digite a altura do objeto em metros10\n",
            "digite o comprimento da sombra do objeto em metros2\n",
            "-11.309932474020215\n"
          ],
          "name": "stdout"
        }
      ]
    },
    {
      "cell_type": "markdown",
      "metadata": {
        "id": "kAzo_U0J1QC4"
      },
      "source": [
        "## Exercícios:\n",
        "1. Crie uma funcão que tome um argumento e imprima o valor e o tipo dele.\n",
        "1. Crie uma função que calcule e imprima velocidade media de um objeto a partir de uma posição inicial, a final e o tempo transcorrido para um objeto em MRU. Também crie uma funcão que calcule e imprima a velocidade de um objeto a partir da aceleração constante e o tempo (MRUA) (p.ex. queda libre).\n",
        "1. Crie uma funcão para calcular o ángulo zenital do sol (da semana passada) tomando como argumento as medidas da altura e o comprimento da sombra.\n",
        "1. Crie uma função que faça a conversão de uma medida inicialmente em milhas para m, e outra para o inverso; uma de horas para segundos, e o inverso. Utilize estas funções para resolver novamente o primeiro exercício da semana passada (da corrida). Se uma pessoa demora 30 minutos em 4 milhas, qual velocidade media em km/h ? e o tempo medio por kilometro?\n",
        "1. Crie funções para calcular os outros exemplos das aulas anteriores: IMC, volume de uma esfera, distancia entre pontos de máximos de difração. Decida quais serão os argumentos e o valor retornado.\n"
      ]
    },
    {
      "cell_type": "code",
      "metadata": {
        "id": "bAzYOdIK1QC5"
      },
      "source": [
        ""
      ],
      "execution_count": null,
      "outputs": []
    }
  ]
}