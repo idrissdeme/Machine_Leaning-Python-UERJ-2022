{
  "nbformat": 4,
  "nbformat_minor": 0,
  "metadata": {
    "kernelspec": {
      "display_name": "Python 3",
      "language": "python",
      "name": "python3"
    },
    "language_info": {
      "codemirror_mode": {
        "name": "ipython",
        "version": 3
      },
      "file_extension": ".py",
      "mimetype": "text/x-python",
      "name": "python",
      "nbconvert_exporter": "python",
      "pygments_lexer": "ipython3",
      "version": "3.7.0"
    },
    "colab": {
      "name": "Cópia de aula1_o_que_e_python.ipynb",
      "provenance": [],
      "collapsed_sections": [],
      "include_colab_link": true
    }
  },
  "cells": [
    {
      "cell_type": "markdown",
      "metadata": {
        "id": "view-in-github",
        "colab_type": "text"
      },
      "source": [
        "<a href=\"https://colab.research.google.com/github/idrissdeme/python-exercicio/blob/master/C%C3%B3pia_de_aula1_o_que_e_python.ipynb\" target=\"_parent\"><img src=\"https://colab.research.google.com/assets/colab-badge.svg\" alt=\"Open In Colab\"/></a>"
      ]
    },
    {
      "cell_type": "code",
      "metadata": {
        "id": "Bqt5QNcnmp3E",
        "colab_type": "code",
        "colab": {}
      },
      "source": [
        "import this"
      ],
      "execution_count": null,
      "outputs": []
    },
    {
      "cell_type": "code",
      "metadata": {
        "id": "APNms7bLmp3W",
        "colab_type": "code",
        "colab": {}
      },
      "source": [
        "import antigravity "
      ],
      "execution_count": null,
      "outputs": []
    },
    {
      "cell_type": "code",
      "metadata": {
        "id": "o6QqbYULmp3k",
        "colab_type": "code",
        "colab": {
          "base_uri": "https://localhost:8080/",
          "height": 34
        },
        "outputId": "f150e6ec-5280-487a-ea78-84d74604cffc"
      },
      "source": [
        "2+2\n",
        "5+8\n",
        "4.6+8.9\n"
      ],
      "execution_count": 9,
      "outputs": [
        {
          "output_type": "execute_result",
          "data": {
            "text/plain": [
              "13.5"
            ]
          },
          "metadata": {
            "tags": []
          },
          "execution_count": 9
        }
      ]
    },
    {
      "cell_type": "markdown",
      "metadata": {
        "id": "4cyZqNsmTD9i",
        "colab_type": "text"
      },
      "source": [
        "Porque aparece somente o último resultado? tem três cálculos diferentes mas só aparece do último. Tem como fazer aparecer os três só no modo calculo?"
      ]
    },
    {
      "cell_type": "code",
      "metadata": {
        "id": "e4YNuHH3mp3u",
        "colab_type": "code",
        "colab": {
          "base_uri": "https://localhost:8080/",
          "height": 34
        },
        "outputId": "204aa17b-c1d1-4ad4-f279-62a382402c81"
      },
      "source": [
        "#sintaxe correta:\n",
        "(2 + 8)"
      ],
      "execution_count": 10,
      "outputs": [
        {
          "output_type": "execute_result",
          "data": {
            "text/plain": [
              "10"
            ]
          },
          "metadata": {
            "tags": []
          },
          "execution_count": 10
        }
      ]
    },
    {
      "cell_type": "code",
      "metadata": {
        "id": "sQUOoHAPmp3z",
        "colab_type": "code",
        "colab": {
          "base_uri": "https://localhost:8080/",
          "height": 131
        },
        "outputId": "b4a44728-53bc-4313-82af-10d14cdec1f7"
      },
      "source": [
        "#sintaxe incorreta\n",
        "(2 + 8"
      ],
      "execution_count": 11,
      "outputs": [
        {
          "output_type": "error",
          "ename": "SyntaxError",
          "evalue": "ignored",
          "traceback": [
            "\u001b[0;36m  File \u001b[0;32m\"<ipython-input-11-307d6186dc77>\"\u001b[0;36m, line \u001b[0;32m2\u001b[0m\n\u001b[0;31m    (2 + 8\u001b[0m\n\u001b[0m          ^\u001b[0m\n\u001b[0;31mSyntaxError\u001b[0m\u001b[0;31m:\u001b[0m unexpected EOF while parsing\n"
          ]
        }
      ]
    },
    {
      "cell_type": "code",
      "metadata": {
        "id": "bIgltE3BTiAM",
        "colab_type": "code",
        "colab": {
          "base_uri": "https://localhost:8080/",
          "height": 131
        },
        "outputId": "3fbeecdf-72a2-4f9d-9313-2ff07176f47b"
      },
      "source": [
        "(8+3)\n",
        "4+5)\n",
        "#não fala nada sobre o primeiro cálculo?"
      ],
      "execution_count": 12,
      "outputs": [
        {
          "output_type": "error",
          "ename": "SyntaxError",
          "evalue": "ignored",
          "traceback": [
            "\u001b[0;36m  File \u001b[0;32m\"<ipython-input-12-32a13f2960be>\"\u001b[0;36m, line \u001b[0;32m2\u001b[0m\n\u001b[0;31m    4+5)\u001b[0m\n\u001b[0m       ^\u001b[0m\n\u001b[0;31mSyntaxError\u001b[0m\u001b[0;31m:\u001b[0m invalid syntax\n"
          ]
        }
      ]
    },
    {
      "cell_type": "markdown",
      "metadata": {
        "id": "AorQXEEymp38",
        "colab_type": "text"
      },
      "source": [
        "# Exercícios\n",
        "\n",
        "### Exercício 1:\n"
      ]
    },
    {
      "cell_type": "code",
      "metadata": {
        "scrolled": true,
        "id": "iNQorxmdmp3-",
        "colab_type": "code",
        "colab": {
          "base_uri": "https://localhost:8080/",
          "height": 34
        },
        "outputId": "40bbdb77-d7ce-4752-b2a4-f1da2a22c39c"
      },
      "source": [
        "print('mundo, mundo, vasto mundo')"
      ],
      "execution_count": 16,
      "outputs": [
        {
          "output_type": "stream",
          "text": [
            "mundo, mundo, vasto mundo\n"
          ],
          "name": "stdout"
        }
      ]
    },
    {
      "cell_type": "code",
      "metadata": {
        "id": "KO1UDICTUDLg",
        "colab_type": "code",
        "colab": {
          "base_uri": "https://localhost:8080/",
          "height": 35
        },
        "outputId": "d58c5439-9325-44d4-8190-30d011419cf3"
      },
      "source": [
        "('mundo, mundo, vasto mundo')\n"
      ],
      "execution_count": 14,
      "outputs": [
        {
          "output_type": "execute_result",
          "data": {
            "application/vnd.google.colaboratory.intrinsic+json": {
              "type": "string"
            },
            "text/plain": [
              "'mundo, mundo, vasto mundo'"
            ]
          },
          "metadata": {
            "tags": []
          },
          "execution_count": 14
        }
      ]
    },
    {
      "cell_type": "code",
      "metadata": {
        "id": "7IWiqSvCUWSN",
        "colab_type": "code",
        "colab": {
          "base_uri": "https://localhost:8080/",
          "height": 35
        },
        "outputId": "34273c54-22d6-4e85-bd9e-0a8d3c82868e"
      },
      "source": [
        "'mundo, mundo, vasto mundo'"
      ],
      "execution_count": 15,
      "outputs": [
        {
          "output_type": "execute_result",
          "data": {
            "application/vnd.google.colaboratory.intrinsic+json": {
              "type": "string"
            },
            "text/plain": [
              "'mundo, mundo, vasto mundo'"
            ]
          },
          "metadata": {
            "tags": []
          },
          "execution_count": 15
        }
      ]
    },
    {
      "cell_type": "markdown",
      "metadata": {
        "id": "dVoNJP3rmp4D",
        "colab_type": "text"
      },
      "source": [
        "### Exercício 2:\n",
        " documentação da função *print*"
      ]
    },
    {
      "cell_type": "code",
      "metadata": {
        "scrolled": true,
        "id": "e-tjr2J1mp4E",
        "colab_type": "code",
        "colab": {
          "base_uri": "https://localhost:8080/",
          "height": 221
        },
        "outputId": "cfe4e32a-766f-4ab7-fa9b-d397299d0310"
      },
      "source": [
        "help ('print')"
      ],
      "execution_count": 20,
      "outputs": [
        {
          "output_type": "stream",
          "text": [
            "Help on built-in function print in module builtins:\n",
            "\n",
            "print(...)\n",
            "    print(value, ..., sep=' ', end='\\n', file=sys.stdout, flush=False)\n",
            "    \n",
            "    Prints the values to a stream, or to sys.stdout by default.\n",
            "    Optional keyword arguments:\n",
            "    file:  a file-like object (stream); defaults to the current sys.stdout.\n",
            "    sep:   string inserted between values, default a space.\n",
            "    end:   string appended after the last value, default a newline.\n",
            "    flush: whether to forcibly flush the stream.\n",
            "\n"
          ],
          "name": "stdout"
        }
      ]
    },
    {
      "cell_type": "markdown",
      "metadata": {
        "id": "sE4F0ZW6mp4H",
        "colab_type": "text"
      },
      "source": [
        "### Exercício 3:\n",
        "Inicie o interpretador Python e use-o como uma calculadora. A sintaxe do Python para operações matemáticas é quase igual à notação matemática padrão: \n",
        "* adição: + \n",
        "* subtração: - \n",
        "* divisão: /\n",
        "* multiplicação: *\n",
        "   \n",
        "   \n",
        "***Se você fizer uma corrida de 10 quilômetros em 43 minutos e 30 segundos, qual será seu tempo médio por milha? Qual é a sua velocidade média em milhas por hora? (Dica: há 1,61 quilômetros em uma milha).***"
      ]
    },
    {
      "cell_type": "code",
      "metadata": {
        "id": "c8ipdG0uVkji",
        "colab_type": "code",
        "colab": {
          "base_uri": "https://localhost:8080/",
          "height": 34
        },
        "outputId": "6d84ab1e-5698-4963-cc43-26e85e2aba99"
      },
      "source": [
        "87.8-0.0001"
      ],
      "execution_count": 25,
      "outputs": [
        {
          "output_type": "execute_result",
          "data": {
            "text/plain": [
              "87.7999"
            ]
          },
          "metadata": {
            "tags": []
          },
          "execution_count": 25
        }
      ]
    },
    {
      "cell_type": "code",
      "metadata": {
        "id": "NplSnG-yVra4",
        "colab_type": "code",
        "colab": {
          "base_uri": "https://localhost:8080/",
          "height": 34
        },
        "outputId": "df48ecba-a0cc-4445-e5cc-2ab85c4c3b20"
      },
      "source": [
        "57/5"
      ],
      "execution_count": 26,
      "outputs": [
        {
          "output_type": "execute_result",
          "data": {
            "text/plain": [
              "11.4"
            ]
          },
          "metadata": {
            "tags": []
          },
          "execution_count": 26
        }
      ]
    },
    {
      "cell_type": "code",
      "metadata": {
        "id": "ah5doQtBVwv7",
        "colab_type": "code",
        "colab": {
          "base_uri": "https://localhost:8080/",
          "height": 34
        },
        "outputId": "5605ea54-307f-4be5-acda-78b72e875dee"
      },
      "source": [
        "745.02*53"
      ],
      "execution_count": 27,
      "outputs": [
        {
          "output_type": "execute_result",
          "data": {
            "text/plain": [
              "39486.06"
            ]
          },
          "metadata": {
            "tags": []
          },
          "execution_count": 27
        }
      ]
    },
    {
      "cell_type": "code",
      "metadata": {
        "id": "E5A1qVjoU6YI",
        "colab_type": "code",
        "colab": {
          "base_uri": "https://localhost:8080/",
          "height": 34
        },
        "outputId": "ae5c2480-478b-4869-c608-73d09d6d6801"
      },
      "source": [
        "5 + 5\n",
        "# aparenetemente o espaço não faz diferença no resultado. Mas qual é a forma correta de escrever,\n",
        "# colocando espaço entre o operador e os números, ou escrever sem espaço?"
      ],
      "execution_count": 24,
      "outputs": [
        {
          "output_type": "execute_result",
          "data": {
            "text/plain": [
              "10"
            ]
          },
          "metadata": {
            "tags": []
          },
          "execution_count": 24
        }
      ]
    },
    {
      "cell_type": "code",
      "metadata": {
        "id": "0wWRCfKGV2rP",
        "colab_type": "code",
        "colab": {
          "base_uri": "https://localhost:8080/",
          "height": 34
        },
        "outputId": "21a4aaf7-30dd-47f1-fd75-7b468af34715"
      },
      "source": [
        "#Se você fizer uma corrida de 10 quilômetros em 43 minutos e 30 segundos, qual será seu tempo médio por milha? \n",
        "# Qual é a sua velocidade média em milhas por hora? (Dica: há 1,61 quilômetros em uma milha).\n",
        "'10km em milhas'; \n",
        "x=10/1.61\n",
        "print (x)\n"
      ],
      "execution_count": 36,
      "outputs": [
        {
          "output_type": "stream",
          "text": [
            "6.211180124223602\n"
          ],
          "name": "stdout"
        }
      ]
    },
    {
      "cell_type": "code",
      "metadata": {
        "id": "RR8vULV2aKXe",
        "colab_type": "code",
        "colab": {
          "base_uri": "https://localhost:8080/",
          "height": 52
        },
        "outputId": "e5872365-7a08-44b4-df50-cafdadf8b5fc"
      },
      "source": [
        "'Tempo médio por uma milha em minutos'\n",
        "y=43.5/x\n",
        "z = y-7\n",
        "s = z*60\n",
        "print( s )\n",
        "'tempo em milha: 7 minutos 21 segundos'"
      ],
      "execution_count": 45,
      "outputs": [
        {
          "output_type": "stream",
          "text": [
            "0.21000000000004349\n"
          ],
          "name": "stdout"
        },
        {
          "output_type": "execute_result",
          "data": {
            "application/vnd.google.colaboratory.intrinsic+json": {
              "type": "string"
            },
            "text/plain": [
              "'tempo em milha: 7 minutos 21 segundos'"
            ]
          },
          "metadata": {
            "tags": []
          },
          "execution_count": 45
        }
      ]
    },
    {
      "cell_type": "code",
      "metadata": {
        "id": "m1s-3BD6czbe",
        "colab_type": "code",
        "colab": {
          "base_uri": "https://localhost:8080/",
          "height": 51
        },
        "outputId": "da0b68c5-725c-4349-9dac-4daefd2dd208"
      },
      "source": [
        "'43.5 minutos em horas'\n",
        "t=43.5/60\n",
        "'velocidade média em milha/h'\n",
        "v=x/t\n",
        "print ('velocidade média em milha por hora:')\n",
        "print(v)\n",
        "#como colocar os dois na mesma linha?"
      ],
      "execution_count": 50,
      "outputs": [
        {
          "output_type": "stream",
          "text": [
            "velocidade média em milha por hora:\n",
            "8.567144998929106\n"
          ],
          "name": "stdout"
        }
      ]
    },
    {
      "cell_type": "markdown",
      "metadata": {
        "id": "5c1DsbW5hv5r",
        "colab_type": "text"
      },
      "source": [
        "\n",
        "Questão 2 : IntroPython<DFNAE<TWiki\n",
        "Ache a distância com Tsom-Tluz =3 segundos"
      ]
    },
    {
      "cell_type": "code",
      "metadata": {
        "id": "5BiJ7FT3htiY",
        "colab_type": "code",
        "colab": {
          "base_uri": "https://localhost:8080/",
          "height": 51
        },
        "outputId": "4784dc80-eb10-4b3c-b46e-4e2cda3bfb09"
      },
      "source": [
        "V_luz=3*10**8\n",
        "V_som= 343\n",
        "Distancia = 3*(1/V_som - 1/V_luz)**(-1)\n",
        "print('a distância é em kilometros:')\n",
        "print(Distancia/1000)"
      ],
      "execution_count": 57,
      "outputs": [
        {
          "output_type": "stream",
          "text": [
            "a distância é em metros:\n",
            "1.0290011764913451\n"
          ],
          "name": "stdout"
        }
      ]
    },
    {
      "cell_type": "markdown",
      "metadata": {
        "id": "1unyY5FWkhB2",
        "colab_type": "text"
      },
      "source": [
        "Questão 3: IntroPython<DFNAE<TWiki\n",
        "ache o zero da função: y = 3x^2 - 4x - 10"
      ]
    },
    {
      "cell_type": "code",
      "metadata": {
        "id": "oliRWgVak8Kj",
        "colab_type": "code",
        "colab": {
          "base_uri": "https://localhost:8080/",
          "height": 51
        },
        "outputId": "daeaa389-d1d9-43ee-b397-4ca81d04e555"
      },
      "source": [
        "a=3\n",
        "b=-4\n",
        "c=10\n",
        "sqrt_delta= (b**2-4*a*c)**1/2\n",
        "y1= (-b - sqrt_delta)/(2*a)\n",
        "y2= (-b + sqrt_delta)/(2*a)\n",
        "print ('as raizes são')\n",
        "print (y1,y2)\n",
        "#Aqui a gente sabia o número de raizes, como fazer par exibir todas raizes em caso onde o número de raizes só é conhecido depois do cálculo."
      ],
      "execution_count": 59,
      "outputs": [
        {
          "output_type": "stream",
          "text": [
            "as raizes são\n",
            "-8.0 -8.0\n"
          ],
          "name": "stdout"
        }
      ]
    },
    {
      "cell_type": "markdown",
      "metadata": {
        "id": "P31zPRMonntA",
        "colab_type": "text"
      },
      "source": [
        "Questão 4: IntroPython<DFNAE<TWiki: ângulo zenital do sol"
      ]
    },
    {
      "cell_type": "code",
      "metadata": {
        "id": "7y5jKS9KrAmP",
        "colab_type": "code",
        "colab": {
          "base_uri": "https://localhost:8080/",
          "height": 34
        },
        "outputId": "898634d1-70c3-46f1-cc36-86dafd52c9f5"
      },
      "source": [
        "#Angulo zenital ao meio dia = declinação (delta) - latitude local (fi)-90\n",
        "#latitude rio de janeiro = -23 graus \n",
        "delta =math.atan2(5,0.5)\n",
        "delta_grau=math.degrees(delta)\n",
        "declinação=delta_grau+23-90\n",
        "print (declinação)"
      ],
      "execution_count": 70,
      "outputs": [
        {
          "output_type": "stream",
          "text": [
            "17.28940686250037\n"
          ],
          "name": "stdout"
        }
      ]
    },
    {
      "cell_type": "markdown",
      "metadata": {
        "id": "aUeGtcXazGUU",
        "colab_type": "text"
      },
      "source": [
        "Questão5: cálculo de Indice de massa corporal IMC"
      ]
    },
    {
      "cell_type": "code",
      "metadata": {
        "id": "izZG7DUUzPp3",
        "colab_type": "code",
        "colab": {
          "base_uri": "https://localhost:8080/",
          "height": 51
        },
        "outputId": "84ca8012-24d6-419a-ae01-b9a199b85465"
      },
      "source": [
        "meu_IMC = 71/1.73**2\n",
        "IMC_do_bebe = 11/0.7**2\n",
        "print (meu_IMC)\n",
        "print (IMC_do_bebe)"
      ],
      "execution_count": 72,
      "outputs": [
        {
          "output_type": "stream",
          "text": [
            "23.722810651876106\n",
            "22.44897959183674\n"
          ],
          "name": "stdout"
        }
      ]
    },
    {
      "cell_type": "markdown",
      "metadata": {
        "id": "DKck7WaZz-gV",
        "colab_type": "text"
      },
      "source": [
        "Questão6: velocidade de um objeto em queda livre de 3 m\n",
        "\n",
        "tem como fazer copia e cola entre duas células diferentes? tentei aqui copiar(pelo botão direito do mouse) parte do texto das celuals anteriores para cola nesta e não funciona."
      ]
    },
    {
      "cell_type": "code",
      "metadata": {
        "id": "rXvsWvbLzshw",
        "colab_type": "code",
        "colab": {
          "base_uri": "https://localhost:8080/",
          "height": 85
        },
        "outputId": "bc3e2cf7-1e0b-4775-a07b-5fec45d72f88"
      },
      "source": [
        "g=10\n",
        "V_queda=math.sqrt(2*g*3)\n",
        "Tempo=V_queda/g\n",
        "print ('velocidade de queda livre:')\n",
        "print(V_queda)\n",
        "print('tempo de queda livre em segundo:')\n",
        "print(Tempo)"
      ],
      "execution_count": 76,
      "outputs": [
        {
          "output_type": "stream",
          "text": [
            "velocidade de queda livre:\n",
            "7.745966692414834\n",
            "tempo de queda livre em segundo:\n",
            "0.7745966692414834\n"
          ],
          "name": "stdout"
        }
      ]
    }
  ]
}