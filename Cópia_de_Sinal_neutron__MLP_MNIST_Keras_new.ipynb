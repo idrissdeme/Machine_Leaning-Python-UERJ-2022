{
  "nbformat": 4,
  "nbformat_minor": 0,
  "metadata": {
    "colab": {
      "name": "Cópia de Sinal-neutron_ MLP_MNIST_Keras_new.ipynb",
      "provenance": [],
      "collapsed_sections": [],
      "include_colab_link": true
    },
    "kernelspec": {
      "display_name": "Python 3",
      "language": "python",
      "name": "python3"
    }
  },
  "cells": [
    {
      "cell_type": "markdown",
      "metadata": {
        "id": "view-in-github",
        "colab_type": "text"
      },
      "source": [
        "<a href=\"https://colab.research.google.com/github/idrissdeme/Machine_Leaning-Python-UERJ-2022/blob/master/C%C3%B3pia_de_Sinal_neutron__MLP_MNIST_Keras_new.ipynb\" target=\"_parent\"><img src=\"https://colab.research.google.com/assets/colab-badge.svg\" alt=\"Open In Colab\"/></a>"
      ]
    },
    {
      "cell_type": "markdown",
      "metadata": {
        "id": "ftxVZMcL9zlw"
      },
      "source": [
        "**JUPYTER NOTEBOOK FOR A MLP LEARNING MNIST NEUTRON SIGNAL **\n",
        "\n",
        "*   Item da lista\n",
        "*   Item da lista\n",
        "\n"
      ]
    },
    {
      "cell_type": "code",
      "metadata": {
        "id": "h1MQaRXWLVxm"
      },
      "source": [
        "import numpy as np\n",
        "import pandas as pd\n",
        "import matplotlib.pyplot as plt\n",
        "from tensorflow.keras.models import Sequential\n",
        "from tensorflow.keras.layers import Dense\n",
        "from tensorflow.keras.optimizers import SGD\n",
        "from tensorflow.keras.datasets import mnist\n",
        "from keras.utils import np_utils"
      ],
      "execution_count": null,
      "outputs": []
    },
    {
      "cell_type": "markdown",
      "metadata": {
        "id": "yvoxEUZsXSpp"
      },
      "source": [
        "**Define the network hyperparameters**"
      ]
    },
    {
      "cell_type": "code",
      "metadata": {
        "id": "Oo7CQ7KkFSud"
      },
      "source": [
        "# Trainign batch size \n",
        "batch_size = 128\n",
        "# Number of training epochs\n",
        "epochs = 50\n",
        "# Fraction of the training data to be used as validation\n",
        "val_split = 0.3\n",
        "# Number of classes ( multi-classification )\n",
        "nb_classes = 10\n",
        "# Learning rate\n",
        "lr=0.1\n"
      ],
      "execution_count": null,
      "outputs": []
    },
    {
      "cell_type": "markdown",
      "source": [
        "Reding binary data"
      ],
      "metadata": {
        "id": "6NSv135TpVY7"
      }
    },
    {
      "cell_type": "code",
      "source": [
        "!pip install -U -q PyDrive\n",
        "\n",
        "from pydrive.auth import GoogleAuth\n",
        "\n",
        "from pydrive.drive import GoogleDrive\n",
        "\n",
        "from google.colab import auth\n",
        "\n",
        "from oauth2client.client import GoogleCredentials\n",
        "\n",
        "auth.authenticate_user()\n",
        "\n",
        "gauth = GoogleAuth()\n",
        "\n",
        "gauth.credentials = GoogleCredentials.get_application_default()\n",
        "\n",
        "drive = GoogleDrive(gauth)\n",
        "\n",
        "fileDownloaded = drive.CreateFile({'id':'1MJBYDAGuoXgiurR6LwvnWIdPK1BmY7k-'})\n",
        "\n",
        "fileDownloaded.GetContentFile('TRE286A - Cop.fon')\n",
        "\n",
        "#import pandas as pd\n",
        "\n",
        "#df = pd.read_table('TRE286A - Cop.fon', delimiter=';')\n",
        "\n",
        "#df.head(8)\n",
        "\n",
        "file = open(\"TRE286A - Cop.fon\",\"rb\")\n",
        "print(file.read(8))\n",
        "(X_train, y_train), (X_test, y_test) =file\n",
        "file.close()\n",
        "\n"
      ],
      "metadata": {
        "id": "OlF2Ho44pZ5_",
        "outputId": "fb5bfb39-ea24-4408-ea9e-ac3a794c74ce",
        "colab": {
          "base_uri": "https://localhost:8080/",
          "height": 252
        }
      },
      "execution_count": null,
      "outputs": [
        {
          "output_type": "stream",
          "name": "stdout",
          "text": [
            "b'\\xfb?\\x87\\xf9\\xf2\\x02\\xd6?'\n"
          ]
        },
        {
          "output_type": "error",
          "ename": "ValueError",
          "evalue": "ignored",
          "traceback": [
            "\u001b[0;31m---------------------------------------------------------------------------\u001b[0m",
            "\u001b[0;31mValueError\u001b[0m                                Traceback (most recent call last)",
            "\u001b[0;32m<ipython-input-41-3b1330b1c4df>\u001b[0m in \u001b[0;36m<module>\u001b[0;34m()\u001b[0m\n\u001b[1;32m     29\u001b[0m \u001b[0mfile\u001b[0m \u001b[0;34m=\u001b[0m \u001b[0mopen\u001b[0m\u001b[0;34m(\u001b[0m\u001b[0;34m\"TRE286A - Cop.fon\"\u001b[0m\u001b[0;34m,\u001b[0m\u001b[0;34m\"rb\"\u001b[0m\u001b[0;34m)\u001b[0m\u001b[0;34m\u001b[0m\u001b[0;34m\u001b[0m\u001b[0m\n\u001b[1;32m     30\u001b[0m \u001b[0mprint\u001b[0m\u001b[0;34m(\u001b[0m\u001b[0mfile\u001b[0m\u001b[0;34m.\u001b[0m\u001b[0mread\u001b[0m\u001b[0;34m(\u001b[0m\u001b[0;36m8\u001b[0m\u001b[0;34m)\u001b[0m\u001b[0;34m)\u001b[0m\u001b[0;34m\u001b[0m\u001b[0;34m\u001b[0m\u001b[0m\n\u001b[0;32m---> 31\u001b[0;31m \u001b[0;34m(\u001b[0m\u001b[0mX_train\u001b[0m\u001b[0;34m,\u001b[0m \u001b[0my_train\u001b[0m\u001b[0;34m)\u001b[0m\u001b[0;34m,\u001b[0m \u001b[0;34m(\u001b[0m\u001b[0mX_test\u001b[0m\u001b[0;34m,\u001b[0m \u001b[0my_test\u001b[0m\u001b[0;34m)\u001b[0m \u001b[0;34m=\u001b[0m\u001b[0mfile\u001b[0m\u001b[0;34m\u001b[0m\u001b[0;34m\u001b[0m\u001b[0m\n\u001b[0m\u001b[1;32m     32\u001b[0m \u001b[0mfile\u001b[0m\u001b[0;34m.\u001b[0m\u001b[0mclose\u001b[0m\u001b[0;34m(\u001b[0m\u001b[0;34m)\u001b[0m\u001b[0;34m\u001b[0m\u001b[0;34m\u001b[0m\u001b[0m\n\u001b[1;32m     33\u001b[0m \u001b[0;34m\u001b[0m\u001b[0m\n",
            "\u001b[0;31mValueError\u001b[0m: too many values to unpack (expected 2)"
          ]
        }
      ]
    },
    {
      "cell_type": "markdown",
      "metadata": {
        "id": "VA0a8nUbXes8"
      },
      "source": [
        "**Load the MNIST dataset and format it for train and validation**"
      ]
    },
    {
      "cell_type": "code",
      "metadata": {
        "id": "vwHyt7p9FSun"
      },
      "source": [
        "# Load MNIST dataset (28x28 pixel images)\n",
        "(X_train, y_train), (X_test, y_test) = mnist.load_data()\n",
        "X_train = X_train.reshape(60000, 784)\n",
        "X_test = X_test.reshape(10000, 784)\n",
        "X_train = X_train.astype('float32')\n",
        "X_test = X_test.astype('float32')\n",
        "X_train /= 255\n",
        "X_test /= 255\n",
        "Y_Train = np_utils.to_categorical(y_train, nb_classes)\n",
        "Y_Test = np_utils.to_categorical(y_test, nb_classes)\n"
      ],
      "execution_count": null,
      "outputs": []
    },
    {
      "cell_type": "markdown",
      "metadata": {
        "id": "bW5Ef_8PXtYs"
      },
      "source": [
        "**Define the MLP achitecture using KERAS sequential API**"
      ]
    },
    {
      "cell_type": "code",
      "metadata": {
        "id": "vnEXAUWpFSus",
        "outputId": "e8e37b57-d2cd-475a-f4ed-b2e55e1f1edd",
        "colab": {
          "base_uri": "https://localhost:8080/"
        }
      },
      "source": [
        "# Multilayer Perceptron model\n",
        "model = Sequential()\n",
        "model.add(Dense(input_dim=784, activation=\"relu\", units=100, kernel_initializer=\"normal\"))\n",
        "model.add(Dense(activation=\"relu\", units=50, kernel_initializer=\"normal\")) # after first layer no need to specify input_dim\n",
        "model.add(Dense(activation=\"relu\", units=25, kernel_initializer=\"normal\")) # after first layer no need to specify input_dim\n",
        "model.add(Dense(activation=\"sigmoid\", units=10, kernel_initializer=\"normal\"))\n",
        "model.compile(optimizer=SGD(lr=lr), loss='mean_squared_error', metrics=['accuracy'])\n",
        "model.summary()"
      ],
      "execution_count": null,
      "outputs": [
        {
          "output_type": "stream",
          "name": "stdout",
          "text": [
            "Model: \"sequential\"\n",
            "_________________________________________________________________\n",
            " Layer (type)                Output Shape              Param #   \n",
            "=================================================================\n",
            " dense (Dense)               (None, 100)               78500     \n",
            "                                                                 \n",
            " dense_1 (Dense)             (None, 50)                5050      \n",
            "                                                                 \n",
            " dense_2 (Dense)             (None, 25)                1275      \n",
            "                                                                 \n",
            " dense_3 (Dense)             (None, 10)                260       \n",
            "                                                                 \n",
            "=================================================================\n",
            "Total params: 85,085\n",
            "Trainable params: 85,085\n",
            "Non-trainable params: 0\n",
            "_________________________________________________________________\n"
          ]
        },
        {
          "output_type": "stream",
          "name": "stderr",
          "text": [
            "/usr/local/lib/python3.7/dist-packages/keras/optimizer_v2/gradient_descent.py:102: UserWarning: The `lr` argument is deprecated, use `learning_rate` instead.\n",
            "  super(SGD, self).__init__(name, **kwargs)\n"
          ]
        }
      ]
    },
    {
      "cell_type": "markdown",
      "metadata": {
        "id": "R1Uju_bZX45K"
      },
      "source": [
        "**Train the MLP**"
      ]
    },
    {
      "cell_type": "code",
      "metadata": {
        "id": "v1ZdRrtvFSu3",
        "outputId": "f2d5f560-3e41-425e-d053-5e02d3d9dc7e",
        "colab": {
          "base_uri": "https://localhost:8080/"
        }
      },
      "source": [
        "# Train\n",
        "history = model.fit(X_train, Y_Train, validation_split=val_split, epochs=epochs, batch_size=batch_size, verbose=1)\n"
      ],
      "execution_count": null,
      "outputs": [
        {
          "output_type": "stream",
          "name": "stdout",
          "text": [
            "Epoch 1/50\n",
            "329/329 [==============================] - 2s 4ms/step - loss: 0.1796 - accuracy: 0.1065 - val_loss: 0.0940 - val_accuracy: 0.1134\n",
            "Epoch 2/50\n",
            "329/329 [==============================] - 1s 4ms/step - loss: 0.0916 - accuracy: 0.1145 - val_loss: 0.0912 - val_accuracy: 0.1079\n",
            "Epoch 3/50\n",
            "329/329 [==============================] - 1s 4ms/step - loss: 0.0912 - accuracy: 0.1143 - val_loss: 0.0911 - val_accuracy: 0.1079\n",
            "Epoch 4/50\n",
            "329/329 [==============================] - 1s 4ms/step - loss: 0.0911 - accuracy: 0.1143 - val_loss: 0.0910 - val_accuracy: 0.1079\n",
            "Epoch 5/50\n",
            "329/329 [==============================] - 1s 4ms/step - loss: 0.0910 - accuracy: 0.1143 - val_loss: 0.0909 - val_accuracy: 0.1079\n",
            "Epoch 6/50\n",
            "329/329 [==============================] - 1s 4ms/step - loss: 0.0910 - accuracy: 0.1143 - val_loss: 0.0909 - val_accuracy: 0.1079\n",
            "Epoch 7/50\n",
            "329/329 [==============================] - 1s 4ms/step - loss: 0.0909 - accuracy: 0.1143 - val_loss: 0.0908 - val_accuracy: 0.1079\n",
            "Epoch 8/50\n",
            "329/329 [==============================] - 1s 4ms/step - loss: 0.0908 - accuracy: 0.1143 - val_loss: 0.0908 - val_accuracy: 0.1079\n",
            "Epoch 9/50\n",
            "329/329 [==============================] - 1s 4ms/step - loss: 0.0908 - accuracy: 0.1143 - val_loss: 0.0907 - val_accuracy: 0.1079\n",
            "Epoch 10/50\n",
            "329/329 [==============================] - 1s 4ms/step - loss: 0.0907 - accuracy: 0.1143 - val_loss: 0.0906 - val_accuracy: 0.1079\n",
            "Epoch 11/50\n",
            "329/329 [==============================] - 1s 4ms/step - loss: 0.0907 - accuracy: 0.1143 - val_loss: 0.0906 - val_accuracy: 0.1079\n",
            "Epoch 12/50\n",
            "329/329 [==============================] - 1s 4ms/step - loss: 0.0906 - accuracy: 0.1143 - val_loss: 0.0905 - val_accuracy: 0.1079\n",
            "Epoch 13/50\n",
            "329/329 [==============================] - 1s 3ms/step - loss: 0.0906 - accuracy: 0.1143 - val_loss: 0.0905 - val_accuracy: 0.1079\n",
            "Epoch 14/50\n",
            "329/329 [==============================] - 1s 4ms/step - loss: 0.0905 - accuracy: 0.1143 - val_loss: 0.0904 - val_accuracy: 0.1079\n",
            "Epoch 15/50\n",
            "329/329 [==============================] - 1s 3ms/step - loss: 0.0904 - accuracy: 0.1143 - val_loss: 0.0903 - val_accuracy: 0.1079\n",
            "Epoch 16/50\n",
            "329/329 [==============================] - 1s 4ms/step - loss: 0.0903 - accuracy: 0.1148 - val_loss: 0.0903 - val_accuracy: 0.1083\n",
            "Epoch 17/50\n",
            "329/329 [==============================] - 1s 4ms/step - loss: 0.0902 - accuracy: 0.1175 - val_loss: 0.0902 - val_accuracy: 0.1163\n",
            "Epoch 18/50\n",
            "329/329 [==============================] - 1s 4ms/step - loss: 0.0901 - accuracy: 0.1330 - val_loss: 0.0900 - val_accuracy: 0.1281\n",
            "Epoch 19/50\n",
            "329/329 [==============================] - 1s 4ms/step - loss: 0.0900 - accuracy: 0.1476 - val_loss: 0.0899 - val_accuracy: 0.1586\n",
            "Epoch 20/50\n",
            "329/329 [==============================] - 1s 4ms/step - loss: 0.0898 - accuracy: 0.1772 - val_loss: 0.0896 - val_accuracy: 0.1797\n",
            "Epoch 21/50\n",
            "329/329 [==============================] - 1s 4ms/step - loss: 0.0894 - accuracy: 0.1966 - val_loss: 0.0892 - val_accuracy: 0.1981\n",
            "Epoch 22/50\n",
            "329/329 [==============================] - 1s 4ms/step - loss: 0.0889 - accuracy: 0.2074 - val_loss: 0.0885 - val_accuracy: 0.2047\n",
            "Epoch 23/50\n",
            "329/329 [==============================] - 1s 4ms/step - loss: 0.0877 - accuracy: 0.2115 - val_loss: 0.0868 - val_accuracy: 0.2059\n",
            "Epoch 24/50\n",
            "329/329 [==============================] - 1s 4ms/step - loss: 0.0851 - accuracy: 0.2121 - val_loss: 0.0836 - val_accuracy: 0.2063\n",
            "Epoch 25/50\n",
            "329/329 [==============================] - 1s 4ms/step - loss: 0.0814 - accuracy: 0.2139 - val_loss: 0.0801 - val_accuracy: 0.2216\n",
            "Epoch 26/50\n",
            "329/329 [==============================] - 1s 4ms/step - loss: 0.0784 - accuracy: 0.2696 - val_loss: 0.0777 - val_accuracy: 0.2906\n",
            "Epoch 27/50\n",
            "329/329 [==============================] - 1s 4ms/step - loss: 0.0765 - accuracy: 0.3149 - val_loss: 0.0762 - val_accuracy: 0.3370\n",
            "Epoch 28/50\n",
            "329/329 [==============================] - 1s 4ms/step - loss: 0.0753 - accuracy: 0.3566 - val_loss: 0.0751 - val_accuracy: 0.3625\n",
            "Epoch 29/50\n",
            "329/329 [==============================] - 1s 4ms/step - loss: 0.0743 - accuracy: 0.3779 - val_loss: 0.0742 - val_accuracy: 0.3880\n",
            "Epoch 30/50\n",
            "329/329 [==============================] - 1s 4ms/step - loss: 0.0734 - accuracy: 0.3995 - val_loss: 0.0733 - val_accuracy: 0.3892\n",
            "Epoch 31/50\n",
            "329/329 [==============================] - 1s 4ms/step - loss: 0.0725 - accuracy: 0.4108 - val_loss: 0.0722 - val_accuracy: 0.4424\n",
            "Epoch 32/50\n",
            "329/329 [==============================] - 1s 4ms/step - loss: 0.0712 - accuracy: 0.4389 - val_loss: 0.0707 - val_accuracy: 0.4422\n",
            "Epoch 33/50\n",
            "329/329 [==============================] - 1s 3ms/step - loss: 0.0694 - accuracy: 0.4590 - val_loss: 0.0686 - val_accuracy: 0.4689\n",
            "Epoch 34/50\n",
            "329/329 [==============================] - 1s 4ms/step - loss: 0.0673 - accuracy: 0.4905 - val_loss: 0.0665 - val_accuracy: 0.5049\n",
            "Epoch 35/50\n",
            "329/329 [==============================] - 1s 4ms/step - loss: 0.0653 - accuracy: 0.5351 - val_loss: 0.0645 - val_accuracy: 0.5642\n",
            "Epoch 36/50\n",
            "329/329 [==============================] - 1s 4ms/step - loss: 0.0632 - accuracy: 0.5675 - val_loss: 0.0620 - val_accuracy: 0.6069\n",
            "Epoch 37/50\n",
            "329/329 [==============================] - 1s 4ms/step - loss: 0.0600 - accuracy: 0.6029 - val_loss: 0.0578 - val_accuracy: 0.6419\n",
            "Epoch 38/50\n",
            "329/329 [==============================] - 1s 4ms/step - loss: 0.0551 - accuracy: 0.6425 - val_loss: 0.0522 - val_accuracy: 0.6649\n",
            "Epoch 39/50\n",
            "329/329 [==============================] - 1s 4ms/step - loss: 0.0503 - accuracy: 0.6798 - val_loss: 0.0481 - val_accuracy: 0.6963\n",
            "Epoch 40/50\n",
            "329/329 [==============================] - 1s 4ms/step - loss: 0.0471 - accuracy: 0.7101 - val_loss: 0.0454 - val_accuracy: 0.7416\n",
            "Epoch 41/50\n",
            "329/329 [==============================] - 1s 4ms/step - loss: 0.0447 - accuracy: 0.7344 - val_loss: 0.0433 - val_accuracy: 0.7548\n",
            "Epoch 42/50\n",
            "329/329 [==============================] - 1s 3ms/step - loss: 0.0427 - accuracy: 0.7521 - val_loss: 0.0414 - val_accuracy: 0.7760\n",
            "Epoch 43/50\n",
            "329/329 [==============================] - 1s 4ms/step - loss: 0.0409 - accuracy: 0.7702 - val_loss: 0.0396 - val_accuracy: 0.7816\n",
            "Epoch 44/50\n",
            "329/329 [==============================] - 1s 4ms/step - loss: 0.0391 - accuracy: 0.7837 - val_loss: 0.0378 - val_accuracy: 0.7917\n",
            "Epoch 45/50\n",
            "329/329 [==============================] - 1s 4ms/step - loss: 0.0371 - accuracy: 0.7988 - val_loss: 0.0354 - val_accuracy: 0.8128\n",
            "Epoch 46/50\n",
            "329/329 [==============================] - 1s 4ms/step - loss: 0.0349 - accuracy: 0.8124 - val_loss: 0.0333 - val_accuracy: 0.8170\n",
            "Epoch 47/50\n",
            "329/329 [==============================] - 1s 4ms/step - loss: 0.0326 - accuracy: 0.8221 - val_loss: 0.0309 - val_accuracy: 0.8319\n",
            "Epoch 48/50\n",
            "329/329 [==============================] - 1s 4ms/step - loss: 0.0305 - accuracy: 0.8313 - val_loss: 0.0290 - val_accuracy: 0.8378\n",
            "Epoch 49/50\n",
            "329/329 [==============================] - 1s 4ms/step - loss: 0.0287 - accuracy: 0.8397 - val_loss: 0.0274 - val_accuracy: 0.8432\n",
            "Epoch 50/50\n",
            "329/329 [==============================] - 1s 4ms/step - loss: 0.0273 - accuracy: 0.8453 - val_loss: 0.0261 - val_accuracy: 0.8510\n"
          ]
        }
      ]
    },
    {
      "cell_type": "markdown",
      "metadata": {
        "id": "87neTyT0X-1f"
      },
      "source": [
        "**Evaluate the MLP performance**"
      ]
    },
    {
      "cell_type": "code",
      "metadata": {
        "id": "tOlt7lO3FSvA",
        "colab": {
          "base_uri": "https://localhost:8080/"
        },
        "outputId": "e1ab553a-ac98-4565-d56b-422e90b62d85"
      },
      "source": [
        "# Evaluate\n",
        "evaluation = model.evaluate(X_test, Y_Test, verbose=1)\n",
        "print('Summary: Loss over the test dataset: %.2f, Accuracy: %.2f' % (evaluation[0], evaluation[1]))"
      ],
      "execution_count": null,
      "outputs": [
        {
          "output_type": "stream",
          "name": "stdout",
          "text": [
            "313/313 [==============================] - 0s 1ms/step - loss: 0.0256 - accuracy: 0.8528\n",
            "Summary: Loss over the test dataset: 0.03, Accuracy: 0.85\n"
          ]
        }
      ]
    },
    {
      "cell_type": "markdown",
      "metadata": {
        "id": "bEmgseziYHhS"
      },
      "source": [
        "**Plot the training and validation performances**"
      ]
    },
    {
      "cell_type": "code",
      "metadata": {
        "id": "2kdXNm_WFbME",
        "colab": {
          "base_uri": "https://localhost:8080/",
          "height": 573
        },
        "outputId": "2641d86f-8943-4c02-e28c-e7abc01fad10"
      },
      "source": [
        "# Training History Visualization\n",
        "\n",
        "# Plot training & validation accuracy values\n",
        "plt.plot(history.history['accuracy'])\n",
        "plt.plot(history.history['val_accuracy'])\n",
        "plt.title('Model accuracy')\n",
        "plt.ylabel('Accuracy')\n",
        "plt.xlabel('Epoch')\n",
        "plt.legend(['Train', 'Test'], loc='upper left')\n",
        "plt.show()\n",
        "\n",
        "# Plot training & validation loss values\n",
        "plt.plot(history.history['loss'])\n",
        "plt.plot(history.history['val_loss'])\n",
        "plt.title('Model loss')\n",
        "plt.ylabel('Loss')\n",
        "plt.xlabel('Epoch')\n",
        "plt.legend(['Train', 'Test'], loc='upper right')\n",
        "plt.show()"
      ],
      "execution_count": null,
      "outputs": [
        {
          "output_type": "display_data",
          "data": {
            "text/plain": [
              "<Figure size 432x288 with 1 Axes>"
            ],
            "image/png": "[encoded data removed]"
          },
          "metadata": {
            "needs_background": "light"
          }
        },
        {
          "output_type": "display_data",
          "data": {
            "text/plain": [
              "<Figure size 432x288 with 1 Axes>"
            ],
            "image/png": "[encoded data removed]"
          },
          "metadata": {
            "needs_background": "light"
          }
        }
      ]
    },
    {
      "cell_type": "code",
      "metadata": {
        "id": "54xIi0GPrGNB",
        "colab": {
          "base_uri": "https://localhost:8080/",
          "height": 586
        },
        "outputId": "b1278325-5b44-4f55-bf7d-e811d3e8ec88"
      },
      "source": [
        "Nplot = 20\n",
        "plt.figure(figsize=(10,10))\n",
        "Y = model.predict(X_test, batch_size=64)\n",
        "#Y=model.predict(X_test) \n",
        "Y=Y*10.\n",
        "print(Y.shape)\n",
        "for n in range(Nplot):\n",
        "  X=X_test[n,:]\n",
        "  ax = plt.subplot(4, 5, n+1)\n",
        "  plt.imshow(X.reshape(28,28))\n",
        "  plt.axis('off')\n",
        "  index = np.argmax(Y[n])\n",
        "  plt.title('Prediction='+str(index))\n",
        "plt.show()"
      ],
      "execution_count": null,
      "outputs": [
        {
          "output_type": "stream",
          "name": "stdout",
          "text": [
            "(10000, 10)\n"
          ]
        },
        {
          "output_type": "display_data",
          "data": {
            "text/plain": [
              "<Figure size 720x720 with 20 Axes>"
            ],
            "image/png": "[encoded data removed]"
          },
          "metadata": {
            "needs_background": "light"
          }
        }
      ]
    },
    {
      "cell_type": "markdown",
      "metadata": {
        "id": "4agGtlXb755a"
      },
      "source": [
        "**Exercises:**\n",
        "\n",
        "---\n",
        "\n",
        "\n",
        "**Question 1**: What happens if you increase/decrease the number of hidden layers?\n",
        "\n",
        "\n",
        "**Question 2:** What happens if you increase/decrease the number of nodes per hidden layer?\n",
        "\n",
        "**Question 3:** What happens if you increase/decrease the learning rate ?\n",
        "\n",
        "**Question 4:** What happens if you increase/decrease the number of training epochs  ?\n",
        "\n",
        "**Question 5:** What happens if you increase/decrease the training batch size ?\n",
        "\n",
        "**Question 6:** What happens if you use the ReLU activation function in the hidden layers ?"
      ]
    }
  ]
}