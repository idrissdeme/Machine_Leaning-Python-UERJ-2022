{
  "cells": [
    {
      "cell_type": "markdown",
      "metadata": {
        "id": "view-in-github",
        "colab_type": "text"
      },
      "source": [
        "<a href=\"https://colab.research.google.com/github/idrissdeme/Machine_Leaning-Python-UERJ-2022/blob/master/Espectrometria_de_netron_Sinal_neutron__MLP_Keras_new.ipynb\" target=\"_parent\"><img src=\"https://colab.research.google.com/assets/colab-badge.svg\" alt=\"Open In Colab\"/></a>"
      ]
    },
    {
      "cell_type": "markdown",
      "metadata": {
        "id": "ftxVZMcL9zlw"
      },
      "source": [
        "** MLP LEARNING NEUTRON SIGNAL **\n",
        "\n",
        "\n"
      ]
    },
    {
      "cell_type": "code",
      "execution_count": 1,
      "metadata": {
        "id": "h1MQaRXWLVxm"
      },
      "outputs": [],
      "source": [
        "import numpy as np\n",
        "import pandas as pd\n",
        "import matplotlib.pyplot as plt\n",
        "from tensorflow.keras.models import Sequential\n",
        "from tensorflow.keras.layers import Dense\n",
        "from tensorflow.keras.optimizers import SGD\n",
        "#from tensorflow.keras.datasets import mnist\n",
        "from tensorflow.keras.utils import*"
      ]
    },
    {
      "cell_type": "markdown",
      "metadata": {
        "id": "yvoxEUZsXSpp"
      },
      "source": [
        "**Define the network hyperparameters**"
      ]
    },
    {
      "cell_type": "code",
      "execution_count": 2,
      "metadata": {
        "id": "Oo7CQ7KkFSud"
      },
      "outputs": [],
      "source": [
        "# Trainign batch size \n",
        "batch_size = 56\n",
        "# Number of training epochs\n",
        "epochs = 50\n",
        "# Fraction of the training data to be used as validation\n",
        "val_split = 0.3\n",
        "# Number of classes ( multi-classification )\n",
        "nb_classes = 10\n",
        "# Learning rate\n",
        "lr=0.1\n"
      ]
    },
    {
      "cell_type": "markdown",
      "metadata": {
        "id": "6NSv135TpVY7"
      },
      "source": [
        "Reding binary data"
      ]
    },
    {
      "cell_type": "code",
      "execution_count": 3,
      "metadata": {
        "colab": {
          "base_uri": "https://localhost:8080/"
        },
        "id": "OlF2Ho44pZ5_",
        "outputId": "6c21d08d-dbc8-4b8f-a874-76a2bc416620"
      },
      "outputs": [
        {
          "output_type": "stream",
          "name": "stdout",
          "text": [
            "             0\n",
            "0      0.34393\n",
            "1      0.35412\n",
            "2      0.24170\n",
            "3      0.00000\n",
            "4      0.00000\n",
            "...        ...\n",
            "26317  0.22963\n",
            "26318  0.29700\n",
            "26319  0.34931\n",
            "26320  0.47950\n",
            "26321  0.33064\n",
            "\n",
            "[26322 rows x 1 columns]\n"
          ]
        }
      ],
      "source": [
        "!pip install -U -q PyDrive\n",
        "\n",
        "from pydrive.auth import GoogleAuth\n",
        "\n",
        "from pydrive.drive import GoogleDrive\n",
        "\n",
        "from google.colab import auth\n",
        "\n",
        "from oauth2client.client import GoogleCredentials\n",
        "\n",
        "auth.authenticate_user()\n",
        "\n",
        "gauth = GoogleAuth()\n",
        "\n",
        "gauth.credentials = GoogleCredentials.get_application_default()\n",
        "\n",
        "drive = GoogleDrive(gauth)\n",
        "\n",
        "fileDownloaded = drive.CreateFile({'id':'1MJBYDAGuoXgiurR6LwvnWIdPK1BmY7k-'})\n",
        "\n",
        "fileDownloaded.GetContentFile('TRE286A - Cop.fon')\n",
        "\n",
        "#import pandas as pd\n",
        "\n",
        "#df = pd.read_table('TRE286A - Cop.fon', delimiter=';')\n",
        "\n",
        "#df.head(8)\n",
        "\n",
        "#file = open(\"TRE286A - Cop.fon\",\"rb\")\n",
        "#print(file.read(8))\n",
        "#(X_train, y_train), (X_test, y_test) =file\n",
        "#file.close()\n",
        "\n",
        "\n",
        "import numpy as np\n",
        "import pandas as pd\n",
        "# Create a dtype with the binary data format and the desired column names\n",
        "\n",
        "dt = np.dtype(\"float64\")\n",
        "data = np.fromfile(\"TRE286A - Cop.fon\", dtype=dt)\n",
        "df = pd.DataFrame(data)\n",
        "print(df)\n",
        "\n"
      ]
    },
    {
      "cell_type": "code",
      "source": [
        "import numpy as np\n",
        "import pandas as pd\n",
        "# Create a dtype with the binary data format and the desired column names\n",
        "\n",
        "dt = np.dtype(\"float64\")\n",
        "data = np.fromfile(\"TRE286A - Cop.fon\", dtype=dt)"
      ],
      "metadata": {
        "id": "oSjHte3YB4nU"
      },
      "execution_count": 4,
      "outputs": []
    },
    {
      "cell_type": "code",
      "source": [
        "len(data)"
      ],
      "metadata": {
        "colab": {
          "base_uri": "https://localhost:8080/"
        },
        "id": "3Y4-Dg8gCdjb",
        "outputId": "bb720465-5e08-45b9-8b99-f14a009000a3"
      },
      "execution_count": null,
      "outputs": [
        {
          "output_type": "execute_result",
          "data": {
            "text/plain": [
              "26322"
            ]
          },
          "metadata": {},
          "execution_count": 3
        }
      ]
    },
    {
      "cell_type": "code",
      "source": [
        "df= pd.read_excel(\"/content/teste.xlsx\")\n",
        "df= df.drop(columns=[\"Unnamed: 0\"])\n",
        "df = df.dropna()\n",
        "df\n",
        "\n"
      ],
      "metadata": {
        "colab": {
          "base_uri": "https://localhost:8080/",
          "height": 424
        },
        "id": "nsNF1Hd3Db1w",
        "outputId": "816bdac7-fd3e-424d-c16f-d31bef6e0258"
      },
      "execution_count": 6,
      "outputs": [
        {
          "output_type": "execute_result",
          "data": {
            "text/plain": [
              "          E(MeV)    Saídas\n",
              "1   1.000000e-09  0.000003\n",
              "2   1.585000e-09  0.000043\n",
              "3   2.512000e-09  0.000077\n",
              "4   3.981000e-09  0.003964\n",
              "5   6.310000e-09  0.001548\n",
              "..           ...       ...\n",
              "80  7.943000e+00  0.130655\n",
              "81  1.000000e+01  0.049621\n",
              "82  1.259000e+01  0.010274\n",
              "83  1.585000e+01  0.000728\n",
              "84  2.000000e+01  0.000367\n",
              "\n",
              "[84 rows x 2 columns]"
            ],
            "text/html": [
              "\n",
              "  <div id=\"df-4ef50d55-e1db-444f-92a1-27a20f43c3db\">\n",
              "    <div class=\"colab-df-container\">\n",
              "      <div>\n",
              "<style scoped>\n",
              "    .dataframe tbody tr th:only-of-type {\n",
              "        vertical-align: middle;\n",
              "    }\n",
              "\n",
              "    .dataframe tbody tr th {\n",
              "        vertical-align: top;\n",
              "    }\n",
              "\n",
              "    .dataframe thead th {\n",
              "        text-align: right;\n",
              "    }\n",
              "</style>\n",
              "<table border=\"1\" class=\"dataframe\">\n",
              "  <thead>\n",
              "    <tr style=\"text-align: right;\">\n",
              "      <th></th>\n",
              "      <th>E(MeV)</th>\n",
              "      <th>Saídas</th>\n",
              "    </tr>\n",
              "  </thead>\n",
              "  <tbody>\n",
              "    <tr>\n",
              "      <th>1</th>\n",
              "      <td>1.000000e-09</td>\n",
              "      <td>0.000003</td>\n",
              "    </tr>\n",
              "    <tr>\n",
              "      <th>2</th>\n",
              "      <td>1.585000e-09</td>\n",
              "      <td>0.000043</td>\n",
              "    </tr>\n",
              "    <tr>\n",
              "      <th>3</th>\n",
              "      <td>2.512000e-09</td>\n",
              "      <td>0.000077</td>\n",
              "    </tr>\n",
              "    <tr>\n",
              "      <th>4</th>\n",
              "      <td>3.981000e-09</td>\n",
              "      <td>0.003964</td>\n",
              "    </tr>\n",
              "    <tr>\n",
              "      <th>5</th>\n",
              "      <td>6.310000e-09</td>\n",
              "      <td>0.001548</td>\n",
              "    </tr>\n",
              "    <tr>\n",
              "      <th>...</th>\n",
              "      <td>...</td>\n",
              "      <td>...</td>\n",
              "    </tr>\n",
              "    <tr>\n",
              "      <th>80</th>\n",
              "      <td>7.943000e+00</td>\n",
              "      <td>0.130655</td>\n",
              "    </tr>\n",
              "    <tr>\n",
              "      <th>81</th>\n",
              "      <td>1.000000e+01</td>\n",
              "      <td>0.049621</td>\n",
              "    </tr>\n",
              "    <tr>\n",
              "      <th>82</th>\n",
              "      <td>1.259000e+01</td>\n",
              "      <td>0.010274</td>\n",
              "    </tr>\n",
              "    <tr>\n",
              "      <th>83</th>\n",
              "      <td>1.585000e+01</td>\n",
              "      <td>0.000728</td>\n",
              "    </tr>\n",
              "    <tr>\n",
              "      <th>84</th>\n",
              "      <td>2.000000e+01</td>\n",
              "      <td>0.000367</td>\n",
              "    </tr>\n",
              "  </tbody>\n",
              "</table>\n",
              "<p>84 rows × 2 columns</p>\n",
              "</div>\n",
              "      <button class=\"colab-df-convert\" onclick=\"convertToInteractive('df-4ef50d55-e1db-444f-92a1-27a20f43c3db')\"\n",
              "              title=\"Convert this dataframe to an interactive table.\"\n",
              "              style=\"display:none;\">\n",
              "        \n",
              "  <svg xmlns=\"http://www.w3.org/2000/svg\" height=\"24px\"viewBox=\"0 0 24 24\"\n",
              "       width=\"24px\">\n",
              "    <path d=\"M0 0h24v24H0V0z\" fill=\"none\"/>\n",
              "    <path d=\"M18.56 5.44l.94 2.06.94-2.06 2.06-.94-2.06-.94-.94-2.06-.94 2.06-2.06.94zm-11 1L8.5 8.5l.94-2.06 2.06-.94-2.06-.94L8.5 2.5l-.94 2.06-2.06.94zm10 10l.94 2.06.94-2.06 2.06-.94-2.06-.94-.94-2.06-.94 2.06-2.06.94z\"/><path d=\"M17.41 7.96l-1.37-1.37c-.4-.4-.92-.59-1.43-.59-.52 0-1.04.2-1.43.59L10.3 9.45l-7.72 7.72c-.78.78-.78 2.05 0 2.83L4 21.41c.39.39.9.59 1.41.59.51 0 1.02-.2 1.41-.59l7.78-7.78 2.81-2.81c.8-.78.8-2.07 0-2.86zM5.41 20L4 18.59l7.72-7.72 1.47 1.35L5.41 20z\"/>\n",
              "  </svg>\n",
              "      </button>\n",
              "      \n",
              "  <style>\n",
              "    .colab-df-container {\n",
              "      display:flex;\n",
              "      flex-wrap:wrap;\n",
              "      gap: 12px;\n",
              "    }\n",
              "\n",
              "    .colab-df-convert {\n",
              "      background-color: #E8F0FE;\n",
              "      border: none;\n",
              "      border-radius: 50%;\n",
              "      cursor: pointer;\n",
              "      display: none;\n",
              "      fill: #1967D2;\n",
              "      height: 32px;\n",
              "      padding: 0 0 0 0;\n",
              "      width: 32px;\n",
              "    }\n",
              "\n",
              "    .colab-df-convert:hover {\n",
              "      background-color: #E2EBFA;\n",
              "      box-shadow: 0px 1px 2px rgba(60, 64, 67, 0.3), 0px 1px 3px 1px rgba(60, 64, 67, 0.15);\n",
              "      fill: #174EA6;\n",
              "    }\n",
              "\n",
              "    [theme=dark] .colab-df-convert {\n",
              "      background-color: #3B4455;\n",
              "      fill: #D2E3FC;\n",
              "    }\n",
              "\n",
              "    [theme=dark] .colab-df-convert:hover {\n",
              "      background-color: #434B5C;\n",
              "      box-shadow: 0px 1px 3px 1px rgba(0, 0, 0, 0.15);\n",
              "      filter: drop-shadow(0px 1px 2px rgba(0, 0, 0, 0.3));\n",
              "      fill: #FFFFFF;\n",
              "    }\n",
              "  </style>\n",
              "\n",
              "      <script>\n",
              "        const buttonEl =\n",
              "          document.querySelector('#df-4ef50d55-e1db-444f-92a1-27a20f43c3db button.colab-df-convert');\n",
              "        buttonEl.style.display =\n",
              "          google.colab.kernel.accessAllowed ? 'block' : 'none';\n",
              "\n",
              "        async function convertToInteractive(key) {\n",
              "          const element = document.querySelector('#df-4ef50d55-e1db-444f-92a1-27a20f43c3db');\n",
              "          const dataTable =\n",
              "            await google.colab.kernel.invokeFunction('convertToInteractive',\n",
              "                                                     [key], {});\n",
              "          if (!dataTable) return;\n",
              "\n",
              "          const docLinkHtml = 'Like what you see? Visit the ' +\n",
              "            '<a target=\"_blank\" href=https://colab.research.google.com/notebooks/data_table.ipynb>data table notebook</a>'\n",
              "            + ' to learn more about interactive tables.';\n",
              "          element.innerHTML = '';\n",
              "          dataTable['output_type'] = 'display_data';\n",
              "          await google.colab.output.renderOutput(dataTable, element);\n",
              "          const docLink = document.createElement('div');\n",
              "          docLink.innerHTML = docLinkHtml;\n",
              "          element.appendChild(docLink);\n",
              "        }\n",
              "      </script>\n",
              "    </div>\n",
              "  </div>\n",
              "  "
            ]
          },
          "metadata": {},
          "execution_count": 6
        }
      ]
    },
    {
      "cell_type": "code",
      "source": [
        "from sklearn.model_selection import train_test_split\n",
        "X_train, X_test, y_train, y_test = train_test_split(df[\"E(MeV)\"], df[\"Saídas\"], test_size=0.33, random_state=42)\n",
        "X_train = X_train.astype('float32')\n",
        "X_test = X_test.astype('float32')"
      ],
      "metadata": {
        "id": "MrHlQX_YG7i2"
      },
      "execution_count": 7,
      "outputs": []
    },
    {
      "cell_type": "code",
      "execution_count": 17,
      "metadata": {
        "colab": {
          "base_uri": "https://localhost:8080/",
          "height": 70
        },
        "id": "EE7S2kLdwIKF",
        "outputId": "082d9ef4-9e87-49a1-a1d8-b79c63ccb378"
      },
      "outputs": [
        {
          "output_type": "execute_result",
          "data": {
            "text/plain": [
              "\"X_train = X_train.reshape(600, 84)\\nX_test = X_test.reshape(1000, 84)\\nX_train = X_train.astype('float32')\\nX_test = X_test.astype('float32')\\nX_train /= 255\\nX_test /= 255\\nY_Train = np_utils.to_categorical(y_train, nb_classes)\\nY_Test = np_utils.to_categorical(y_test, nb_classes)\\n\""
            ],
            "application/vnd.google.colaboratory.intrinsic+json": {
              "type": "string"
            }
          },
          "metadata": {},
          "execution_count": 17
        }
      ],
      "source": [
        "\"\"\"X_train = X_train.reshape(600, 84)\n",
        "X_test = X_test.reshape(1000, 84)\n",
        "X_train = X_train.astype('float32')\n",
        "X_test = X_test.astype('float32')\n",
        "X_train /= 255\n",
        "X_test /= 255\n",
        "Y_Train = np_utils.to_categorical(y_train, nb_classes)\n",
        "Y_Test = np_utils.to_categorical(y_test, nb_classes)\n",
        "\"\"\""
      ]
    },
    {
      "cell_type": "markdown",
      "metadata": {
        "id": "bW5Ef_8PXtYs"
      },
      "source": [
        "**Define the MLP achitecture using KERAS sequential API**"
      ]
    },
    {
      "cell_type": "code",
      "execution_count": 26,
      "metadata": {
        "colab": {
          "base_uri": "https://localhost:8080/"
        },
        "id": "vnEXAUWpFSus",
        "outputId": "b86a4245-3c59-40fd-d21c-97e6d0821ce8"
      },
      "outputs": [
        {
          "output_type": "stream",
          "name": "stdout",
          "text": [
            "Model: \"sequential_5\"\n",
            "_________________________________________________________________\n",
            " Layer (type)                Output Shape              Param #   \n",
            "=================================================================\n",
            " dense_16 (Dense)            (None, 100)               200       \n",
            "                                                                 \n",
            " dense_17 (Dense)            (None, 50)                5050      \n",
            "                                                                 \n",
            " dense_18 (Dense)            (None, 25)                1275      \n",
            "                                                                 \n",
            " dense_19 (Dense)            (None, 10)                260       \n",
            "                                                                 \n",
            "=================================================================\n",
            "Total params: 6,785\n",
            "Trainable params: 6,785\n",
            "Non-trainable params: 0\n",
            "_________________________________________________________________\n"
          ]
        },
        {
          "output_type": "stream",
          "name": "stderr",
          "text": [
            "/usr/local/lib/python3.7/dist-packages/keras/optimizer_v2/gradient_descent.py:102: UserWarning: The `lr` argument is deprecated, use `learning_rate` instead.\n",
            "  super(SGD, self).__init__(name, **kwargs)\n"
          ]
        }
      ],
      "source": [
        "# Multilayer Perceptron model\n",
        "model = Sequential()\n",
        "model.add(Dense(input_dim=1, activation=\"relu\", units=100, kernel_initializer=\"normal\"))\n",
        "model.add(Dense(activation=\"relu\", units=50, kernel_initializer=\"normal\")) # after first layer no need to specify input_dim\n",
        "model.add(Dense(activation=\"relu\", units=25, kernel_initializer=\"normal\")) # after first layer no need to specify input_dim\n",
        "model.add(Dense(activation=\"relu\", units=10, kernel_initializer=\"normal\"))\n",
        "model.compile(optimizer=SGD(lr=lr), loss='mean_squared_error', metrics=['accuracy'])\n",
        "model.summary()"
      ]
    },
    {
      "cell_type": "markdown",
      "metadata": {
        "id": "R1Uju_bZX45K"
      },
      "source": [
        "**Train the MLP**"
      ]
    },
    {
      "cell_type": "code",
      "source": [
        "\"\"\"X_train\n",
        "X = np.array(X_train)\n",
        "len(X)\"\"\""
      ],
      "metadata": {
        "colab": {
          "base_uri": "https://localhost:8080/",
          "height": 35
        },
        "id": "4mWW1IYFJ32d",
        "outputId": "269f31d9-81ee-4d02-df8d-a501fb7ea9e8"
      },
      "execution_count": 19,
      "outputs": [
        {
          "output_type": "execute_result",
          "data": {
            "text/plain": [
              "'X_train\\nX = np.array(X_train)\\nlen(X)'"
            ],
            "application/vnd.google.colaboratory.intrinsic+json": {
              "type": "string"
            }
          },
          "metadata": {},
          "execution_count": 19
        }
      ]
    },
    {
      "cell_type": "code",
      "execution_count": 27,
      "metadata": {
        "colab": {
          "base_uri": "https://localhost:8080/"
        },
        "id": "v1ZdRrtvFSu3",
        "outputId": "9c8efee3-ec57-4ac4-e6ce-b97184f7d032"
      },
      "outputs": [
        {
          "output_type": "stream",
          "name": "stdout",
          "text": [
            "Epoch 1/50\n",
            "1/1 [==============================] - 1s 848ms/step - loss: 0.1792 - accuracy: 0.0000e+00 - val_loss: 0.1304 - val_accuracy: 0.0000e+00\n",
            "Epoch 2/50\n",
            "1/1 [==============================] - 0s 36ms/step - loss: 0.1763 - accuracy: 0.0000e+00 - val_loss: 0.1278 - val_accuracy: 0.0000e+00\n",
            "Epoch 3/50\n",
            "1/1 [==============================] - 0s 37ms/step - loss: 0.1736 - accuracy: 0.0000e+00 - val_loss: 0.1254 - val_accuracy: 0.0000e+00\n",
            "Epoch 4/50\n",
            "1/1 [==============================] - 0s 29ms/step - loss: 0.1709 - accuracy: 0.0000e+00 - val_loss: 0.1231 - val_accuracy: 0.0000e+00\n",
            "Epoch 5/50\n",
            "1/1 [==============================] - 0s 29ms/step - loss: 0.1684 - accuracy: 0.0000e+00 - val_loss: 0.1208 - val_accuracy: 0.0000e+00\n",
            "Epoch 6/50\n",
            "1/1 [==============================] - 0s 28ms/step - loss: 0.1660 - accuracy: 0.0000e+00 - val_loss: 0.1187 - val_accuracy: 0.0000e+00\n",
            "Epoch 7/50\n",
            "1/1 [==============================] - 0s 30ms/step - loss: 0.1636 - accuracy: 0.0000e+00 - val_loss: 0.1166 - val_accuracy: 0.0000e+00\n",
            "Epoch 8/50\n",
            "1/1 [==============================] - 0s 30ms/step - loss: 0.1614 - accuracy: 0.0000e+00 - val_loss: 0.1147 - val_accuracy: 0.0000e+00\n",
            "Epoch 9/50\n",
            "1/1 [==============================] - 0s 30ms/step - loss: 0.1592 - accuracy: 0.0000e+00 - val_loss: 0.1128 - val_accuracy: 0.0000e+00\n",
            "Epoch 10/50\n",
            "1/1 [==============================] - 0s 31ms/step - loss: 0.1572 - accuracy: 0.0000e+00 - val_loss: 0.1110 - val_accuracy: 0.0000e+00\n",
            "Epoch 11/50\n",
            "1/1 [==============================] - 0s 44ms/step - loss: 0.1552 - accuracy: 0.0000e+00 - val_loss: 0.1093 - val_accuracy: 0.0000e+00\n",
            "Epoch 12/50\n",
            "1/1 [==============================] - 0s 37ms/step - loss: 0.1533 - accuracy: 0.0000e+00 - val_loss: 0.1076 - val_accuracy: 0.0000e+00\n",
            "Epoch 13/50\n",
            "1/1 [==============================] - 0s 31ms/step - loss: 0.1515 - accuracy: 0.0000e+00 - val_loss: 0.1061 - val_accuracy: 0.0000e+00\n",
            "Epoch 14/50\n",
            "1/1 [==============================] - 0s 30ms/step - loss: 0.1497 - accuracy: 0.0000e+00 - val_loss: 0.1045 - val_accuracy: 0.0000e+00\n",
            "Epoch 15/50\n",
            "1/1 [==============================] - 0s 29ms/step - loss: 0.1480 - accuracy: 0.0000e+00 - val_loss: 0.1031 - val_accuracy: 0.0000e+00\n",
            "Epoch 16/50\n",
            "1/1 [==============================] - 0s 30ms/step - loss: 0.1464 - accuracy: 0.0000e+00 - val_loss: 0.1017 - val_accuracy: 0.0000e+00\n",
            "Epoch 17/50\n",
            "1/1 [==============================] - 0s 30ms/step - loss: 0.1449 - accuracy: 0.0000e+00 - val_loss: 0.1004 - val_accuracy: 0.0000e+00\n",
            "Epoch 18/50\n",
            "1/1 [==============================] - 0s 30ms/step - loss: 0.1434 - accuracy: 0.0000e+00 - val_loss: 0.0991 - val_accuracy: 0.0000e+00\n",
            "Epoch 19/50\n",
            "1/1 [==============================] - 0s 34ms/step - loss: 0.1420 - accuracy: 0.0000e+00 - val_loss: 0.0979 - val_accuracy: 0.0000e+00\n",
            "Epoch 20/50\n",
            "1/1 [==============================] - 0s 30ms/step - loss: 0.1406 - accuracy: 0.0000e+00 - val_loss: 0.0967 - val_accuracy: 0.0000e+00\n",
            "Epoch 21/50\n",
            "1/1 [==============================] - 0s 32ms/step - loss: 0.1393 - accuracy: 0.0000e+00 - val_loss: 0.0956 - val_accuracy: 0.0000e+00\n",
            "Epoch 22/50\n",
            "1/1 [==============================] - 0s 32ms/step - loss: 0.1380 - accuracy: 0.0000e+00 - val_loss: 0.0945 - val_accuracy: 0.0000e+00\n",
            "Epoch 23/50\n",
            "1/1 [==============================] - 0s 36ms/step - loss: 0.1368 - accuracy: 0.0000e+00 - val_loss: 0.0935 - val_accuracy: 0.0000e+00\n",
            "Epoch 24/50\n",
            "1/1 [==============================] - 0s 36ms/step - loss: 0.1357 - accuracy: 0.0000e+00 - val_loss: 0.0925 - val_accuracy: 0.0000e+00\n",
            "Epoch 25/50\n",
            "1/1 [==============================] - 0s 30ms/step - loss: 0.1346 - accuracy: 0.0000e+00 - val_loss: 0.0916 - val_accuracy: 0.0000e+00\n",
            "Epoch 26/50\n",
            "1/1 [==============================] - 0s 38ms/step - loss: 0.1335 - accuracy: 0.0000e+00 - val_loss: 0.0907 - val_accuracy: 0.0000e+00\n",
            "Epoch 27/50\n",
            "1/1 [==============================] - 0s 35ms/step - loss: 0.1325 - accuracy: 0.0000e+00 - val_loss: 0.0899 - val_accuracy: 0.0000e+00\n",
            "Epoch 28/50\n",
            "1/1 [==============================] - 0s 33ms/step - loss: 0.1315 - accuracy: 0.0000e+00 - val_loss: 0.0890 - val_accuracy: 0.0000e+00\n",
            "Epoch 29/50\n",
            "1/1 [==============================] - 0s 32ms/step - loss: 0.1305 - accuracy: 0.0000e+00 - val_loss: 0.0883 - val_accuracy: 0.0000e+00\n",
            "Epoch 30/50\n",
            "1/1 [==============================] - 0s 34ms/step - loss: 0.1296 - accuracy: 0.0000e+00 - val_loss: 0.0875 - val_accuracy: 0.0000e+00\n",
            "Epoch 31/50\n",
            "1/1 [==============================] - 0s 29ms/step - loss: 0.1288 - accuracy: 0.0000e+00 - val_loss: 0.0868 - val_accuracy: 0.0000e+00\n",
            "Epoch 32/50\n",
            "1/1 [==============================] - 0s 35ms/step - loss: 0.1279 - accuracy: 0.0000e+00 - val_loss: 0.0861 - val_accuracy: 0.0000e+00\n",
            "Epoch 33/50\n",
            "1/1 [==============================] - 0s 33ms/step - loss: 0.1271 - accuracy: 0.0000e+00 - val_loss: 0.0855 - val_accuracy: 0.0000e+00\n",
            "Epoch 34/50\n",
            "1/1 [==============================] - 0s 33ms/step - loss: 0.1264 - accuracy: 0.0000e+00 - val_loss: 0.0848 - val_accuracy: 0.0000e+00\n",
            "Epoch 35/50\n",
            "1/1 [==============================] - 0s 39ms/step - loss: 0.1256 - accuracy: 0.0000e+00 - val_loss: 0.0842 - val_accuracy: 0.0000e+00\n",
            "Epoch 36/50\n",
            "1/1 [==============================] - 0s 37ms/step - loss: 0.1249 - accuracy: 0.0000e+00 - val_loss: 0.0837 - val_accuracy: 0.0000e+00\n",
            "Epoch 37/50\n",
            "1/1 [==============================] - 0s 30ms/step - loss: 0.1243 - accuracy: 0.0000e+00 - val_loss: 0.0831 - val_accuracy: 0.0000e+00\n",
            "Epoch 38/50\n",
            "1/1 [==============================] - 0s 39ms/step - loss: 0.1236 - accuracy: 0.0000e+00 - val_loss: 0.0826 - val_accuracy: 0.0000e+00\n",
            "Epoch 39/50\n",
            "1/1 [==============================] - 0s 32ms/step - loss: 0.1230 - accuracy: 0.0000e+00 - val_loss: 0.0821 - val_accuracy: 0.0000e+00\n",
            "Epoch 40/50\n",
            "1/1 [==============================] - 0s 34ms/step - loss: 0.1224 - accuracy: 0.0000e+00 - val_loss: 0.0816 - val_accuracy: 0.0000e+00\n",
            "Epoch 41/50\n",
            "1/1 [==============================] - 0s 36ms/step - loss: 0.1218 - accuracy: 0.0000e+00 - val_loss: 0.0812 - val_accuracy: 0.0000e+00\n",
            "Epoch 42/50\n",
            "1/1 [==============================] - 0s 37ms/step - loss: 0.1213 - accuracy: 0.0000e+00 - val_loss: 0.0807 - val_accuracy: 0.0000e+00\n",
            "Epoch 43/50\n",
            "1/1 [==============================] - 0s 30ms/step - loss: 0.1207 - accuracy: 0.0000e+00 - val_loss: 0.0803 - val_accuracy: 0.0000e+00\n",
            "Epoch 44/50\n",
            "1/1 [==============================] - 0s 31ms/step - loss: 0.1202 - accuracy: 0.0000e+00 - val_loss: 0.0799 - val_accuracy: 0.0000e+00\n",
            "Epoch 45/50\n",
            "1/1 [==============================] - 0s 33ms/step - loss: 0.1197 - accuracy: 0.0000e+00 - val_loss: 0.0796 - val_accuracy: 0.0000e+00\n",
            "Epoch 46/50\n",
            "1/1 [==============================] - 0s 31ms/step - loss: 0.1193 - accuracy: 0.0000e+00 - val_loss: 0.0792 - val_accuracy: 0.0000e+00\n",
            "Epoch 47/50\n",
            "1/1 [==============================] - 0s 31ms/step - loss: 0.1188 - accuracy: 0.0000e+00 - val_loss: 0.0789 - val_accuracy: 0.0000e+00\n",
            "Epoch 48/50\n",
            "1/1 [==============================] - 0s 33ms/step - loss: 0.1184 - accuracy: 0.0000e+00 - val_loss: 0.0785 - val_accuracy: 0.0000e+00\n",
            "Epoch 49/50\n",
            "1/1 [==============================] - 0s 38ms/step - loss: 0.1180 - accuracy: 0.0000e+00 - val_loss: 0.0782 - val_accuracy: 0.0000e+00\n",
            "Epoch 50/50\n",
            "1/1 [==============================] - 0s 29ms/step - loss: 0.1176 - accuracy: 0.0000e+00 - val_loss: 0.0779 - val_accuracy: 0.0000e+00\n"
          ]
        }
      ],
      "source": [
        "# Train\n",
        "#y=np.array(y_train)\n",
        "history = model.fit(X_train, y_train, validation_split=val_split, epochs=epochs, batch_size=batch_size, verbose=1)\n"
      ]
    },
    {
      "cell_type": "markdown",
      "metadata": {
        "id": "87neTyT0X-1f"
      },
      "source": [
        "**Evaluate the MLP performance**"
      ]
    },
    {
      "cell_type": "code",
      "execution_count": 29,
      "metadata": {
        "colab": {
          "base_uri": "https://localhost:8080/"
        },
        "id": "tOlt7lO3FSvA",
        "outputId": "ddd480ed-993c-4803-b457-f663a1e1f18b"
      },
      "outputs": [
        {
          "output_type": "stream",
          "name": "stdout",
          "text": [
            "1/1 [==============================] - 0s 20ms/step - loss: 0.1260 - accuracy: 0.0000e+00\n",
            "Summary: Loss over the test dataset: 0.13, Accuracy: 0.00\n"
          ]
        }
      ],
      "source": [
        "# Evaluate\n",
        "evaluation = model.evaluate(X_test, y_test, verbose=1)\n",
        "print('Summary: Loss over the test dataset: %.2f, Accuracy: %.2f' % (evaluation[0], evaluation[1]))"
      ]
    },
    {
      "cell_type": "markdown",
      "metadata": {
        "id": "bEmgseziYHhS"
      },
      "source": [
        "**Plot the training and validation performances**"
      ]
    },
    {
      "cell_type": "code",
      "execution_count": 30,
      "metadata": {
        "colab": {
          "base_uri": "https://localhost:8080/",
          "height": 573
        },
        "id": "2kdXNm_WFbME",
        "outputId": "761f55ca-39ab-4be6-ed44-6397872b83c4"
      },
      "outputs": [
        {
          "output_type": "display_data",
          "data": {
            "text/plain": [
              "<Figure size 432x288 with 1 Axes>"
            ],
            "image/png": "[encoded data removed]"
          },
          "metadata": {
            "needs_background": "light"
          }
        },
        {
          "output_type": "display_data",
          "data": {
            "text/plain": [
              "<Figure size 432x288 with 1 Axes>"
            ],
            "image/png": "[encoded data removed]"
          },
          "metadata": {
            "needs_background": "light"
          }
        }
      ],
      "source": [
        "# Training History Visualization\n",
        "\n",
        "# Plot training & validation accuracy values\n",
        "plt.plot(history.history['accuracy'])\n",
        "plt.plot(history.history['val_accuracy'])\n",
        "plt.title('Model accuracy')\n",
        "plt.ylabel('Accuracy')\n",
        "plt.xlabel('Epoch')\n",
        "plt.legend(['Train', 'Test'], loc='upper left')\n",
        "plt.show()\n",
        "\n",
        "# Plot training & validation loss values\n",
        "plt.plot(history.history['loss'])\n",
        "plt.plot(history.history['val_loss'])\n",
        "plt.title('Model loss')\n",
        "plt.ylabel('Loss')\n",
        "plt.xlabel('Epoch')\n",
        "plt.legend(['Train', 'Test'], loc='upper right')\n",
        "plt.show()"
      ]
    },
    {
      "cell_type": "code",
      "execution_count": 39,
      "metadata": {
        "colab": {
          "base_uri": "https://localhost:8080/",
          "height": 70
        },
        "id": "54xIi0GPrGNB",
        "outputId": "e0f6c7ae-f0a1-4532-ced3-24c09c1178a0"
      },
      "outputs": [
        {
          "output_type": "execute_result",
          "data": {
            "text/plain": [
              "\"Nplot = 56\\nplt.figure(figsize=(10,10))\\nY = model.predict(X_test, batch_size=64)\\n#Y=model.predict(X_test) \\nY=Y*10.\\nprint(Y.shape)\\nfor n in range(Nplot):\\n  X=X_test[1,n]\\n  ax = plt.subplot(4, 5, n+1)\\n  plt.imshow(X.reshape(1,84))\\n  plt.axis('off')\\n  index = np.argmax(Y[n])\\n  plt.title('Prediction='+str(index))\\nplt.show()\""
            ],
            "application/vnd.google.colaboratory.intrinsic+json": {
              "type": "string"
            }
          },
          "metadata": {},
          "execution_count": 39
        }
      ],
      "source": [
        "\"\"\"Nplot = 56\n",
        "plt.figure(figsize=(10,10))\n",
        "Y = model.predict(X_test, batch_size=64)\n",
        "#Y=model.predict(X_test) \n",
        "Y=Y*10.\n",
        "print(Y.shape)\n",
        "for n in range(Nplot):\n",
        "  X=X_test[1,n]\n",
        "  ax = plt.subplot(4, 5, n+1)\n",
        "  plt.imshow(X.reshape(1,84))\n",
        "  plt.axis('off')\n",
        "  index = np.argmax(Y[n])\n",
        "  plt.title('Prediction='+str(index))\n",
        "plt.show()\"\"\""
      ]
    }
  ],
  "metadata": {
    "colab": {
      "collapsed_sections": [],
      "name": "Espectrometria de netron- Sinal-neutron_ MLP_Keras_new.ipynb",
      "provenance": [],
      "include_colab_link": true
    },
    "kernelspec": {
      "display_name": "Python 3",
      "language": "python",
      "name": "python3"
    }
  },
  "nbformat": 4,
  "nbformat_minor": 0
}