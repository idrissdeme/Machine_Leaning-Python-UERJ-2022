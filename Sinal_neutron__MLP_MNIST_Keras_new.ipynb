{
  "nbformat": 4,
  "nbformat_minor": 0,
  "metadata": {
    "colab": {
      "name": "Sinal-neutron_ MLP_MNIST_Keras_new.ipynb",
      "provenance": [],
      "collapsed_sections": [],
      "include_colab_link": true
    },
    "kernelspec": {
      "display_name": "Python 3",
      "language": "python",
      "name": "python3"
    }
  },
  "cells": [
    {
      "cell_type": "markdown",
      "metadata": {
        "id": "view-in-github",
        "colab_type": "text"
      },
      "source": [
        "<a href=\"https://colab.research.google.com/github/idrissdeme/Machine_Leaning-Python-UERJ-2022/blob/master/Sinal_neutron__MLP_MNIST_Keras_new.ipynb\" target=\"_parent\"><img src=\"https://colab.research.google.com/assets/colab-badge.svg\" alt=\"Open In Colab\"/></a>"
      ]
    },
    {
      "cell_type": "markdown",
      "metadata": {
        "id": "ftxVZMcL9zlw"
      },
      "source": [
        "**JUPYTER NOTEBOOK FOR A MLP LEARNING MNIST NEUTRON SIGNAL **\n",
        "\n",
        "*   Item da lista\n",
        "*   Item da lista\n",
        "\n"
      ]
    },
    {
      "cell_type": "code",
      "metadata": {
        "id": "h1MQaRXWLVxm"
      },
      "source": [
        "import numpy as np\n",
        "import pandas as pd\n",
        "import matplotlib.pyplot as plt\n",
        "from keras.models import Sequential\n",
        "from keras.layers import Dense\n",
        "from keras.optimizers import SGD\n",
        "from keras.datasets import mnist\n",
        "from keras.utils import np_utils"
      ],
      "execution_count": null,
      "outputs": []
    },
    {
      "cell_type": "markdown",
      "metadata": {
        "id": "yvoxEUZsXSpp"
      },
      "source": [
        "**Define the network hyperparameters**"
      ]
    },
    {
      "cell_type": "code",
      "metadata": {
        "id": "Oo7CQ7KkFSud"
      },
      "source": [
        "# Trainign batch size \n",
        "batch_size = 128\n",
        "# Number of training epochs\n",
        "epochs = 50\n",
        "# Fraction of the training data to be used as validation\n",
        "val_split = 0.3\n",
        "# Number of classes ( multi-classification )\n",
        "nb_classes = 10\n",
        "# Learning rate\n",
        "lr=0.1\n"
      ],
      "execution_count": null,
      "outputs": []
    },
    {
      "cell_type": "markdown",
      "metadata": {
        "id": "VA0a8nUbXes8"
      },
      "source": [
        "**Load the MNIST dataset and format it for train and validation**"
      ]
    },
    {
      "cell_type": "code",
      "metadata": {
        "id": "vwHyt7p9FSun"
      },
      "source": [
        "# Load MNIST dataset (28x28 pixel images)\n",
        "(X_train, y_train), (X_test, y_test) = mnist.load_data()\n",
        "X_train = X_train.reshape(60000, 784)\n",
        "X_test = X_test.reshape(10000, 784)\n",
        "X_train = X_train.astype('float32')\n",
        "X_test = X_test.astype('float32')\n",
        "X_train /= 255\n",
        "X_test /= 255\n",
        "Y_Train = np_utils.to_categorical(y_train, nb_classes)\n",
        "Y_Test = np_utils.to_categorical(y_test, nb_classes)\n"
      ],
      "execution_count": null,
      "outputs": []
    },
    {
      "cell_type": "markdown",
      "metadata": {
        "id": "bW5Ef_8PXtYs"
      },
      "source": [
        "**Define the MLP achitecture using KERAS sequential API**"
      ]
    },
    {
      "cell_type": "code",
      "metadata": {
        "id": "vnEXAUWpFSus",
        "outputId": "93e2f0d0-125e-4e86-ffd4-b8dffbf73fc2",
        "colab": {
          "base_uri": "https://localhost:8080/",
          "height": 289
        }
      },
      "source": [
        "# Multilayer Perceptron model\n",
        "model = Sequential()\n",
        "model.add(Dense(input_dim=784, activation=\"relu\", units=100, kernel_initializer=\"normal\"))\n",
        "model.add(Dense(activation=\"relu\", units=50, kernel_initializer=\"normal\")) # after first layer no need to specify input_dim\n",
        "model.add(Dense(activation=\"relu\", units=25, kernel_initializer=\"normal\")) # after first layer no need to specify input_dim\n",
        "model.add(Dense(activation=\"sigmoid\", units=10, kernel_initializer=\"normal\"))\n",
        "model.compile(optimizer=SGD(lr=lr), loss='mean_squared_error', metrics=['accuracy'])\n",
        "model.summary()"
      ],
      "execution_count": null,
      "outputs": [
        {
          "output_type": "stream",
          "text": [
            "Model: \"sequential_3\"\n",
            "_________________________________________________________________\n",
            "Layer (type)                 Output Shape              Param #   \n",
            "=================================================================\n",
            "dense_9 (Dense)              (None, 100)               78500     \n",
            "_________________________________________________________________\n",
            "dense_10 (Dense)             (None, 50)                5050      \n",
            "_________________________________________________________________\n",
            "dense_11 (Dense)             (None, 25)                1275      \n",
            "_________________________________________________________________\n",
            "dense_12 (Dense)             (None, 10)                260       \n",
            "=================================================================\n",
            "Total params: 85,085\n",
            "Trainable params: 85,085\n",
            "Non-trainable params: 0\n",
            "_________________________________________________________________\n"
          ],
          "name": "stdout"
        }
      ]
    },
    {
      "cell_type": "markdown",
      "metadata": {
        "id": "R1Uju_bZX45K"
      },
      "source": [
        "**Train the MLP**"
      ]
    },
    {
      "cell_type": "code",
      "metadata": {
        "id": "v1ZdRrtvFSu3",
        "outputId": "de646dbf-d63a-47c6-8de5-1f2ebc4a962e",
        "colab": {
          "base_uri": "https://localhost:8080/",
          "height": 1000
        }
      },
      "source": [
        "# Train\n",
        "history = model.fit(X_train, Y_Train, validation_split=val_split, epochs=epochs, batch_size=batch_size, verbose=1)\n"
      ],
      "execution_count": null,
      "outputs": [
        {
          "output_type": "stream",
          "text": [
            "Train on 42000 samples, validate on 18000 samples\n",
            "Epoch 1/50\n",
            "42000/42000 [==============================] - 2s 36us/step - loss: 0.1591 - acc: 0.1080 - val_loss: 0.0916 - val_acc: 0.1085\n",
            "Epoch 2/50\n",
            "42000/42000 [==============================] - 1s 32us/step - loss: 0.0915 - acc: 0.1143 - val_loss: 0.0913 - val_acc: 0.1079\n",
            "Epoch 3/50\n",
            "42000/42000 [==============================] - 1s 33us/step - loss: 0.0913 - acc: 0.1143 - val_loss: 0.0912 - val_acc: 0.1079\n",
            "Epoch 4/50\n",
            "42000/42000 [==============================] - 1s 32us/step - loss: 0.0912 - acc: 0.1143 - val_loss: 0.0911 - val_acc: 0.1079\n",
            "Epoch 5/50\n",
            "42000/42000 [==============================] - 1s 32us/step - loss: 0.0911 - acc: 0.1143 - val_loss: 0.0910 - val_acc: 0.1079\n",
            "Epoch 6/50\n",
            "42000/42000 [==============================] - 1s 34us/step - loss: 0.0910 - acc: 0.1143 - val_loss: 0.0909 - val_acc: 0.1079\n",
            "Epoch 7/50\n",
            "42000/42000 [==============================] - 1s 31us/step - loss: 0.0910 - acc: 0.1143 - val_loss: 0.0908 - val_acc: 0.1079\n",
            "Epoch 8/50\n",
            "42000/42000 [==============================] - 1s 31us/step - loss: 0.0909 - acc: 0.1143 - val_loss: 0.0908 - val_acc: 0.1079\n",
            "Epoch 9/50\n",
            "42000/42000 [==============================] - 1s 32us/step - loss: 0.0908 - acc: 0.1143 - val_loss: 0.0907 - val_acc: 0.1079\n",
            "Epoch 10/50\n",
            "42000/42000 [==============================] - 1s 31us/step - loss: 0.0907 - acc: 0.1143 - val_loss: 0.0906 - val_acc: 0.1079\n",
            "Epoch 11/50\n",
            "42000/42000 [==============================] - 1s 32us/step - loss: 0.0906 - acc: 0.1151 - val_loss: 0.0905 - val_acc: 0.1154\n",
            "Epoch 12/50\n",
            "42000/42000 [==============================] - 1s 31us/step - loss: 0.0904 - acc: 0.1301 - val_loss: 0.0903 - val_acc: 0.1425\n",
            "Epoch 13/50\n",
            "42000/42000 [==============================] - 1s 31us/step - loss: 0.0902 - acc: 0.1663 - val_loss: 0.0901 - val_acc: 0.1772\n",
            "Epoch 14/50\n",
            "42000/42000 [==============================] - 1s 33us/step - loss: 0.0900 - acc: 0.1941 - val_loss: 0.0897 - val_acc: 0.1957\n",
            "Epoch 15/50\n",
            "42000/42000 [==============================] - 1s 32us/step - loss: 0.0895 - acc: 0.2058 - val_loss: 0.0891 - val_acc: 0.2024\n",
            "Epoch 16/50\n",
            "42000/42000 [==============================] - 1s 33us/step - loss: 0.0885 - acc: 0.2101 - val_loss: 0.0877 - val_acc: 0.2052\n",
            "Epoch 17/50\n",
            "42000/42000 [==============================] - 1s 32us/step - loss: 0.0861 - acc: 0.2116 - val_loss: 0.0842 - val_acc: 0.2061\n",
            "Epoch 18/50\n",
            "42000/42000 [==============================] - 1s 33us/step - loss: 0.0818 - acc: 0.2124 - val_loss: 0.0802 - val_acc: 0.2083\n",
            "Epoch 19/50\n",
            "42000/42000 [==============================] - 1s 34us/step - loss: 0.0785 - acc: 0.2444 - val_loss: 0.0777 - val_acc: 0.2701\n",
            "Epoch 20/50\n",
            "42000/42000 [==============================] - 1s 31us/step - loss: 0.0765 - acc: 0.2961 - val_loss: 0.0762 - val_acc: 0.3183\n",
            "Epoch 21/50\n",
            "42000/42000 [==============================] - 1s 33us/step - loss: 0.0754 - acc: 0.3320 - val_loss: 0.0753 - val_acc: 0.3272\n",
            "Epoch 22/50\n",
            "42000/42000 [==============================] - 1s 31us/step - loss: 0.0746 - acc: 0.3372 - val_loss: 0.0746 - val_acc: 0.3508\n",
            "Epoch 23/50\n",
            "42000/42000 [==============================] - 1s 32us/step - loss: 0.0741 - acc: 0.3510 - val_loss: 0.0741 - val_acc: 0.3520\n",
            "Epoch 24/50\n",
            "42000/42000 [==============================] - 1s 32us/step - loss: 0.0736 - acc: 0.3583 - val_loss: 0.0737 - val_acc: 0.3838\n",
            "Epoch 25/50\n",
            "42000/42000 [==============================] - 1s 31us/step - loss: 0.0732 - acc: 0.3712 - val_loss: 0.0733 - val_acc: 0.3834\n",
            "Epoch 26/50\n",
            "42000/42000 [==============================] - 1s 32us/step - loss: 0.0728 - acc: 0.3798 - val_loss: 0.0729 - val_acc: 0.3751\n",
            "Epoch 27/50\n",
            "42000/42000 [==============================] - 1s 31us/step - loss: 0.0724 - acc: 0.3830 - val_loss: 0.0724 - val_acc: 0.3824\n",
            "Epoch 28/50\n",
            "42000/42000 [==============================] - 1s 34us/step - loss: 0.0718 - acc: 0.3879 - val_loss: 0.0716 - val_acc: 0.3853\n",
            "Epoch 29/50\n",
            "42000/42000 [==============================] - 1s 32us/step - loss: 0.0708 - acc: 0.3905 - val_loss: 0.0704 - val_acc: 0.3931\n",
            "Epoch 30/50\n",
            "42000/42000 [==============================] - 1s 32us/step - loss: 0.0692 - acc: 0.3957 - val_loss: 0.0682 - val_acc: 0.4067\n",
            "Epoch 31/50\n",
            "42000/42000 [==============================] - 1s 33us/step - loss: 0.0667 - acc: 0.4051 - val_loss: 0.0656 - val_acc: 0.4210\n",
            "Epoch 32/50\n",
            "42000/42000 [==============================] - 1s 32us/step - loss: 0.0645 - acc: 0.4399 - val_loss: 0.0637 - val_acc: 0.4578\n",
            "Epoch 33/50\n",
            "42000/42000 [==============================] - 1s 33us/step - loss: 0.0631 - acc: 0.4739 - val_loss: 0.0624 - val_acc: 0.5012\n",
            "Epoch 34/50\n",
            "42000/42000 [==============================] - 1s 31us/step - loss: 0.0619 - acc: 0.5038 - val_loss: 0.0611 - val_acc: 0.5070\n",
            "Epoch 35/50\n",
            "42000/42000 [==============================] - 1s 31us/step - loss: 0.0605 - acc: 0.5324 - val_loss: 0.0594 - val_acc: 0.5598\n",
            "Epoch 36/50\n",
            "42000/42000 [==============================] - 1s 32us/step - loss: 0.0588 - acc: 0.5653 - val_loss: 0.0575 - val_acc: 0.5831\n",
            "Epoch 37/50\n",
            "42000/42000 [==============================] - 1s 32us/step - loss: 0.0569 - acc: 0.5817 - val_loss: 0.0554 - val_acc: 0.5751\n",
            "Epoch 38/50\n",
            "42000/42000 [==============================] - 1s 32us/step - loss: 0.0548 - acc: 0.5978 - val_loss: 0.0532 - val_acc: 0.6186\n",
            "Epoch 39/50\n",
            "42000/42000 [==============================] - 1s 31us/step - loss: 0.0526 - acc: 0.6230 - val_loss: 0.0510 - val_acc: 0.6327\n",
            "Epoch 40/50\n",
            "42000/42000 [==============================] - 1s 32us/step - loss: 0.0505 - acc: 0.6527 - val_loss: 0.0489 - val_acc: 0.6904\n",
            "Epoch 41/50\n",
            "42000/42000 [==============================] - 1s 33us/step - loss: 0.0484 - acc: 0.6858 - val_loss: 0.0468 - val_acc: 0.6959\n",
            "Epoch 42/50\n",
            "42000/42000 [==============================] - 1s 32us/step - loss: 0.0462 - acc: 0.7125 - val_loss: 0.0443 - val_acc: 0.7307\n",
            "Epoch 43/50\n",
            "42000/42000 [==============================] - 1s 34us/step - loss: 0.0436 - acc: 0.7373 - val_loss: 0.0417 - val_acc: 0.7554\n",
            "Epoch 44/50\n",
            "42000/42000 [==============================] - 1s 33us/step - loss: 0.0409 - acc: 0.7601 - val_loss: 0.0389 - val_acc: 0.7822\n",
            "Epoch 45/50\n",
            "42000/42000 [==============================] - 1s 34us/step - loss: 0.0383 - acc: 0.7785 - val_loss: 0.0365 - val_acc: 0.7859\n",
            "Epoch 46/50\n",
            "42000/42000 [==============================] - 1s 34us/step - loss: 0.0360 - acc: 0.7928 - val_loss: 0.0343 - val_acc: 0.8046\n",
            "Epoch 47/50\n",
            "42000/42000 [==============================] - 1s 33us/step - loss: 0.0340 - acc: 0.8041 - val_loss: 0.0323 - val_acc: 0.8141\n",
            "Epoch 48/50\n",
            "42000/42000 [==============================] - 1s 32us/step - loss: 0.0322 - acc: 0.8136 - val_loss: 0.0306 - val_acc: 0.8203\n",
            "Epoch 49/50\n",
            "42000/42000 [==============================] - 1s 32us/step - loss: 0.0306 - acc: 0.8217 - val_loss: 0.0291 - val_acc: 0.8301\n",
            "Epoch 50/50\n",
            "42000/42000 [==============================] - 1s 33us/step - loss: 0.0292 - acc: 0.8285 - val_loss: 0.0278 - val_acc: 0.8364\n"
          ],
          "name": "stdout"
        }
      ]
    },
    {
      "cell_type": "markdown",
      "metadata": {
        "id": "87neTyT0X-1f"
      },
      "source": [
        "**Evaluate the MLP performance**"
      ]
    },
    {
      "cell_type": "code",
      "metadata": {
        "id": "tOlt7lO3FSvA",
        "colab": {
          "base_uri": "https://localhost:8080/",
          "height": 51
        },
        "outputId": "134340a4-e6bb-4867-b01d-c3bfe819a60d"
      },
      "source": [
        "# Evaluate\n",
        "evaluation = model.evaluate(X_test, Y_Test, verbose=1)\n",
        "print('Summary: Loss over the test dataset: %.2f, Accuracy: %.2f' % (evaluation[0], evaluation[1]))"
      ],
      "execution_count": null,
      "outputs": [
        {
          "output_type": "stream",
          "text": [
            "10000/10000 [==============================] - 0s 25us/step\n",
            "Summary: Loss over the test dataset: 0.03, Accuracy: 0.84\n"
          ],
          "name": "stdout"
        }
      ]
    },
    {
      "cell_type": "markdown",
      "metadata": {
        "id": "bEmgseziYHhS"
      },
      "source": [
        "**Plot the training and validation performances**"
      ]
    },
    {
      "cell_type": "code",
      "metadata": {
        "id": "2kdXNm_WFbME",
        "colab": {
          "base_uri": "https://localhost:8080/",
          "height": 573
        },
        "outputId": "2736ba85-560f-484c-900f-2db1150791dd"
      },
      "source": [
        "# Training History Visualization\n",
        "\n",
        "# Plot training & validation accuracy values\n",
        "plt.plot(history.history['acc'])\n",
        "plt.plot(history.history['val_acc'])\n",
        "plt.title('Model accuracy')\n",
        "plt.ylabel('Accuracy')\n",
        "plt.xlabel('Epoch')\n",
        "plt.legend(['Train', 'Test'], loc='upper left')\n",
        "plt.show()\n",
        "\n",
        "# Plot training & validation loss values\n",
        "plt.plot(history.history['loss'])\n",
        "plt.plot(history.history['val_loss'])\n",
        "plt.title('Model loss')\n",
        "plt.ylabel('Loss')\n",
        "plt.xlabel('Epoch')\n",
        "plt.legend(['Train', 'Test'], loc='upper right')\n",
        "plt.show()"
      ],
      "execution_count": null,
      "outputs": [
        {
          "output_type": "display_data",
          "data": {
            "image/png": "[encoded data removed]",
            "text/plain": [
              "<Figure size 432x288 with 1 Axes>"
            ]
          },
          "metadata": {
            "tags": []
          }
        },
        {
          "output_type": "display_data",
          "data": {
            "image/png": "[encoded data removed]",
            "text/plain": [
              "<Figure size 432x288 with 1 Axes>"
            ]
          },
          "metadata": {
            "tags": []
          }
        }
      ]
    },
    {
      "cell_type": "code",
      "metadata": {
        "id": "54xIi0GPrGNB",
        "colab": {
          "base_uri": "https://localhost:8080/",
          "height": 603
        },
        "outputId": "ee65e24f-490e-4078-e744-fbba0f6a5a56"
      },
      "source": [
        "Nplot = 20\n",
        "plt.figure(figsize=(10,10))\n",
        "Y = model.predict(X_test, batch_size=64)\n",
        "#Y=model.predict(X_test) \n",
        "Y=Y*10.\n",
        "print(Y.shape)\n",
        "for n in range(Nplot):\n",
        "  X=X_test[n,:]\n",
        "  ax = plt.subplot(4, 5, n+1)\n",
        "  plt.imshow(X.reshape(28,28))\n",
        "  plt.axis('off')\n",
        "  index = np.argmax(Y[n])\n",
        "  plt.title('Prediction='+str(index))\n",
        "plt.show()"
      ],
      "execution_count": null,
      "outputs": [
        {
          "output_type": "stream",
          "text": [
            "(10000, 10)\n"
          ],
          "name": "stdout"
        },
        {
          "output_type": "display_data",
          "data": {
            "image/png": "[encoded data removed]",
            "text/plain": [
              "<Figure size 720x720 with 20 Axes>"
            ]
          },
          "metadata": {
            "tags": []
          }
        }
      ]
    },
    {
      "cell_type": "markdown",
      "metadata": {
        "id": "4agGtlXb755a"
      },
      "source": [
        "**Exercises:**\n",
        "\n",
        "---\n",
        "\n",
        "\n",
        "**Question 1**: What happens if you increase/decrease the number of hidden layers?\n",
        "\n",
        "\n",
        "**Question 2:** What happens if you increase/decrease the number of nodes per hidden layer?\n",
        "\n",
        "**Question 3:** What happens if you increase/decrease the learning rate ?\n",
        "\n",
        "**Question 4:** What happens if you increase/decrease the number of training epochs  ?\n",
        "\n",
        "**Question 5:** What happens if you increase/decrease the training batch size ?\n",
        "\n",
        "**Question 6:** What happens if you use the ReLU activation function in the hidden layers ?"
      ]
    }
  ]
}